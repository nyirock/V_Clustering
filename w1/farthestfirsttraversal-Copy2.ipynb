{
 "cells": [
  {
   "cell_type": "markdown",
   "metadata": {
    "deletable": true,
    "editable": true
   },
   "source": [
    "<FarthestFirstTraversal(Data, k) \n",
    "    Centers ← the set consisting of a single randomly chosen point from Data\n",
    "    while |Centers| < k \n",
    "        DataPoint ← the point in Data maximizing d(DataPoint, Centers) \n",
    "        add DataPoint to Centers \n",
    "    return Centers>"
   ]
  },
  {
   "cell_type": "markdown",
   "metadata": {
    "deletable": true,
    "editable": true
   },
   "source": [
    "# Week 1 Clustering"
   ]
  },
  {
   "cell_type": "markdown",
   "metadata": {
    "deletable": true,
    "editable": true
   },
   "source": [
    "## Farthest First Traversal"
   ]
  },
  {
   "cell_type": "markdown",
   "metadata": {
    "deletable": true,
    "editable": true
   },
   "source": [
    "Although the k-Center Clustering Problem is easy to state, it is NP-Hard. The Farthest First Traversal heuristic, whose pseudocode is shown below, selects centers from the points in Data (instead of from all possible points in m-dimensional space). It begins by selecting an arbitrary point in Data as the first center and iteratively adds a new center as the point in Data that is farthest from the centers chosen so far, with ties broken arbitrarily (see figure below)."
   ]
  },
  {
   "cell_type": "code",
   "execution_count": 1,
   "metadata": {
    "collapsed": false,
    "deletable": true,
    "editable": true
   },
   "outputs": [
    {
     "ename": "IndentationError",
     "evalue": "unexpected indent (<ipython-input-1-5c426a0af0be>, line 2)",
     "output_type": "error",
     "traceback": [
      "\u001b[1;36m  File \u001b[1;32m\"<ipython-input-1-5c426a0af0be>\"\u001b[1;36m, line \u001b[1;32m2\u001b[0m\n\u001b[1;33m    Centers ← the set consisting of a single randomly chosen point from Data\u001b[0m\n\u001b[1;37m    ^\u001b[0m\n\u001b[1;31mIndentationError\u001b[0m\u001b[1;31m:\u001b[0m unexpected indent\n"
     ]
    }
   ],
   "source": [
    "FarthestFirstTraversal(Data, k) \n",
    "    Centers ← the set consisting of a single randomly chosen point from Data\n",
    "    while |Centers| < k \n",
    "        DataPoint ← the point in Data maximizing d(DataPoint, Centers) \n",
    "        add DataPoint to Centers \n",
    "    return Centers "
   ]
  },
  {
   "cell_type": "code",
   "execution_count": null,
   "metadata": {
    "collapsed": true,
    "deletable": true,
    "editable": true
   },
   "outputs": [],
   "source": [
    "\n"
   ]
  },
  {
   "cell_type": "code",
   "execution_count": 271,
   "metadata": {
    "collapsed": false,
    "deletable": true,
    "editable": true
   },
   "outputs": [
    {
     "data": {
      "text/plain": [
       "[(1.3, 1.1),\n",
       " (1.3, 0.2),\n",
       " (0.6, 2.8),\n",
       " (3.0, 3.2),\n",
       " (1.2, 0.7),\n",
       " (1.4, 1.6),\n",
       " (1.2, 1.0),\n",
       " (1.2, 1.1),\n",
       " (0.6, 1.5),\n",
       " (1.8, 2.6),\n",
       " (1.2, 1.3),\n",
       " (1.2, 1.0),\n",
       " (0.0, 1.9)]"
      ]
     },
     "execution_count": 271,
     "metadata": {},
     "output_type": "execute_result"
    }
   ],
   "source": [
    "#manual data read\n",
    "data=\"\"\"1.3 1.1\n",
    "1.3 0.2\n",
    "0.6 2.8\n",
    "3.0 3.2\n",
    "1.2 0.7\n",
    "1.4 1.6\n",
    "1.2 1.0\n",
    "1.2 1.1\n",
    "0.6 1.5\n",
    "1.8 2.6\n",
    "1.2 1.3\n",
    "1.2 1.0\n",
    "0.0 1.9\"\"\".split()\n",
    "#x=[float(i) for i in data[::2]]\n",
    "#y=[float(i) for i in data[1::2]]\n",
    "xy=[(float(a),float(b)) for a,b in zip(data[::2],data[1::2]) ]\n",
    "k=2\n",
    "d=2\n",
    "xy"
   ]
  },
  {
   "cell_type": "code",
   "execution_count": 378,
   "metadata": {
    "collapsed": false,
    "deletable": true,
    "editable": true
   },
   "outputs": [
    {
     "name": "stdout",
     "output_type": "stream",
     "text": [
      "number of centers:  7\n",
      "dimensions:  5\n"
     ]
    }
   ],
   "source": [
    "#reads with no centers\n",
    "import random as rnd\n",
    "import math\n",
    "import numpy as np\n",
    "xy=[]\n",
    "with open('dataset_10928_3.txt', 'r') as myfile:\n",
    "    #first_line = myfile.readline()#skipping header\n",
    "    first_line=myfile.readline()\n",
    "    k,d=int(first_line.split()[0]),int(first_line.split()[1])\n",
    "    print 'number of centers: ',k\n",
    "    print 'dimensions: ',d\n",
    "    #next(myfile)#skipping separator\n",
    "    for line in myfile:\n",
    "        \n",
    "        #print line\n",
    "        xy.append(tuple(float(i) for i in line.split()))\n",
    "        \n",
    "#xy=[(float(a),float(b),float(c),float(d),float(e)) for a,b,c,d,e in zip(data[::5],data[1::5],data[2::5],data[3::5],data[4::5]) ]\n",
    "\n",
    "\n",
    "#print 'number of centers: ',k\n",
    "#print 'dimensions: ',d\n",
    "#xy=[(float(a),float(b)) for a,b in zip(data[::2],data[1::2]) ]\n",
    "\n"
   ]
  },
  {
   "cell_type": "code",
   "execution_count": 379,
   "metadata": {
    "collapsed": false,
    "deletable": true,
    "editable": true
   },
   "outputs": [
    {
     "data": {
      "text/plain": [
       "[(22.3, 25.6, 0.5, 3.9, 5.7),\n",
       " (5.7, 6.2, 20.7, 2.8, 0.7),\n",
       " (3.1, 4.7, 11.7, 11.8, 13.3),\n",
       " (0.7, 3.5, 19.4, 10.9, 4.0),\n",
       " (11.7, 2.4, 15.0, 15.8, 11.4)]"
      ]
     },
     "execution_count": 379,
     "metadata": {},
     "output_type": "execute_result"
    }
   ],
   "source": [
    "xy[:5]"
   ]
  },
  {
   "cell_type": "code",
   "execution_count": 1,
   "metadata": {
    "collapsed": false,
    "deletable": true,
    "editable": true
   },
   "outputs": [
    {
     "ename": "SyntaxError",
     "evalue": "Missing parentheses in call to 'print' (<ipython-input-1-ac58aa2c76a8>, line 45)",
     "output_type": "error",
     "traceback": [
      "\u001b[1;36m  File \u001b[1;32m\"<ipython-input-1-ac58aa2c76a8>\"\u001b[1;36m, line \u001b[1;32m45\u001b[0m\n\u001b[1;33m    print \"!!!Random center created: \", new_center\u001b[0m\n\u001b[1;37m                                     ^\u001b[0m\n\u001b[1;31mSyntaxError\u001b[0m\u001b[1;31m:\u001b[0m Missing parentheses in call to 'print'\n"
     ]
    }
   ],
   "source": [
    "#xy=[(float(a),float(b)) for a,b in zip(data[::2],data[1::2]) ]\n",
    "#xy=[(float(a),float(b),float(c)) for a,b,c in zip(data[::3],data[1::3],data[2::3]) ]\n",
    "def EuclideanDistance(p1,p2):\n",
    "    d1,d2=len(p1),len(p2)\n",
    "    if d1!=d2:\n",
    "        print(\"Dimensions do not match!\")\n",
    "        return\n",
    "    dif2 = 0\n",
    "    for i in range(d1):        \n",
    "        dif2 += (p1[i]-p2[i])**2\n",
    "    #print dif2\n",
    "    return math.sqrt(dif2)\n",
    "\n",
    "def FarthestFirstTraversal(points, k):\n",
    "    centers=[]\n",
    "    new_center=points[0]\n",
    "    #new_center=rnd.choice(list((set(points).difference(centers))))\n",
    "    #new_center=(0.8, 12.0, 17.5, 0.9, 7.2)\n",
    "    centers.append(new_center)\n",
    "#     rndPnt=points[rnd.randint(0,len(points)-1)]\n",
    "#     if rndPnt not in centers:\n",
    "#         centers.append(rndPnt)\n",
    "        #del points[(points.index(rndPnt))]\n",
    "    while(len(centers)<k):\n",
    "        maxDist=0 \n",
    "        for point in list((set(points).difference(centers))):\n",
    "            cent_min_dist=np.inf\n",
    "            for center in centers:\n",
    "                dist=EuclideanDistance(center,point)\n",
    "                if dist < cent_min_dist:\n",
    "                    cent_min_dist=dist\n",
    "                \n",
    "                #print dist, point, center\n",
    "            if ((cent_min_dist > maxDist)):\n",
    "                maxDist=cent_min_dist\n",
    "\n",
    "                new_center=point\n",
    "                    #print new_center\n",
    "        \n",
    "        if maxDist:\n",
    "            #new_center=rnd.choice(list((set(points).difference(centers))))\n",
    "            centers.append(new_center)\n",
    "        else:\n",
    "            new_center=rnd.choice(list((set(points).difference(centers))))\n",
    "            print \"!!!Random center created: \", new_center\n",
    "        #print centers\n",
    "                #else:\n",
    "                    #print \"zero length\"\n",
    "                    #print center, point, dist, maxDist\n",
    "        #if new_center not in centers:\n",
    "\n",
    "            \n",
    "    return centers\n",
    "#FarthestFirstTraversal(xy,k)  "
   ]
  },
  {
   "cell_type": "markdown",
   "metadata": {
    "deletable": true,
    "editable": true
   },
   "source": [
    "## Distortion Error"
   ]
  },
  {
   "cell_type": "code",
   "execution_count": 262,
   "metadata": {
    "collapsed": false,
    "deletable": true,
    "editable": true
   },
   "outputs": [
    {
     "ename": "ValueError",
     "evalue": "invalid literal for int() with base 10: 'Input'",
     "output_type": "error",
     "traceback": [
      "\u001b[1;31m---------------------------------------------------------------------------\u001b[0m",
      "\u001b[1;31mValueError\u001b[0m                                Traceback (most recent call last)",
      "\u001b[1;32m<ipython-input-262-212bbcef68b0>\u001b[0m in \u001b[0;36m<module>\u001b[1;34m()\u001b[0m\n\u001b[0;32m      8\u001b[0m     \u001b[1;31m#first_line = myfile.readline()#skipp the initial input title\u001b[0m\u001b[1;33m\u001b[0m\u001b[1;33m\u001b[0m\u001b[0m\n\u001b[0;32m      9\u001b[0m     \u001b[0mfirst_line\u001b[0m \u001b[1;33m=\u001b[0m \u001b[0mmyfile\u001b[0m\u001b[1;33m.\u001b[0m\u001b[0mreadline\u001b[0m\u001b[1;33m(\u001b[0m\u001b[1;33m)\u001b[0m \u001b[1;31m#reading the info line\u001b[0m\u001b[1;33m\u001b[0m\u001b[0m\n\u001b[1;32m---> 10\u001b[1;33m     \u001b[0mk\u001b[0m\u001b[1;33m,\u001b[0m\u001b[0md\u001b[0m\u001b[1;33m=\u001b[0m\u001b[0mint\u001b[0m\u001b[1;33m(\u001b[0m\u001b[0mfirst_line\u001b[0m\u001b[1;33m.\u001b[0m\u001b[0msplit\u001b[0m\u001b[1;33m(\u001b[0m\u001b[1;33m)\u001b[0m\u001b[1;33m[\u001b[0m\u001b[1;36m0\u001b[0m\u001b[1;33m]\u001b[0m\u001b[1;33m)\u001b[0m\u001b[1;33m,\u001b[0m\u001b[0mint\u001b[0m\u001b[1;33m(\u001b[0m\u001b[0mfirst_line\u001b[0m\u001b[1;33m.\u001b[0m\u001b[0msplit\u001b[0m\u001b[1;33m(\u001b[0m\u001b[1;33m)\u001b[0m\u001b[1;33m[\u001b[0m\u001b[1;36m1\u001b[0m\u001b[1;33m]\u001b[0m\u001b[1;33m)\u001b[0m\u001b[1;33m\u001b[0m\u001b[0m\n\u001b[0m\u001b[0;32m     11\u001b[0m     \u001b[1;31m#reading centers\u001b[0m\u001b[1;33m\u001b[0m\u001b[1;33m\u001b[0m\u001b[0m\n\u001b[0;32m     12\u001b[0m     \u001b[0mcnt\u001b[0m\u001b[1;33m=\u001b[0m\u001b[1;36m0\u001b[0m\u001b[1;33m\u001b[0m\u001b[0m\n",
      "\u001b[1;31mValueError\u001b[0m: invalid literal for int() with base 10: 'Input'"
     ]
    }
   ],
   "source": [
    "# reads centers\n",
    "import random as rnd\n",
    "import math\n",
    "import numpy as np\n",
    "xy=[]\n",
    "centers=[]\n",
    "with open('Lloyd.txt', 'r') as myfile:\n",
    "    #first_line = myfile.readline()#skipp the initial input title\n",
    "    first_line = myfile.readline() #reading the info line\n",
    "    k,d=int(first_line.split()[0]),int(first_line.split()[1])\n",
    "    #reading centers\n",
    "    cnt=0\n",
    "    for line in myfile:\n",
    "        #print line\n",
    "        cnt+=1\n",
    "        #print cnt\n",
    "        if cnt <= k:\n",
    "            print line\n",
    "            centers.append(tuple(float(i) for i in line.split()))\n",
    "        elif cnt==k+1:\n",
    "            continue\n",
    "        else:\n",
    "            xy.append(tuple(float(i) for i in line.split()))\n",
    "            \n",
    "       \n",
    "#     for line in myfile:\n",
    "#         #print line\n",
    "#         xy.append(tuple(float(i) for i in line.split()))\n",
    "        \n",
    "#xy=[(float(a),float(b),float(c),float(d),float(e)) for a,b,c,d,e in zip(data[::5],data[1::5],data[2::5],data[3::5],data[4::5]) ]\n",
    "\n",
    "\n",
    "print 'number of centers: ',k\n",
    "print 'dimensions: ',d"
   ]
  },
  {
   "cell_type": "code",
   "execution_count": 265,
   "metadata": {
    "collapsed": false,
    "deletable": true,
    "editable": true
   },
   "outputs": [
    {
     "data": {
      "text/plain": [
       "[]"
      ]
     },
     "execution_count": 265,
     "metadata": {},
     "output_type": "execute_result"
    }
   ],
   "source": [
    "centers"
   ]
  },
  {
   "cell_type": "code",
   "execution_count": 381,
   "metadata": {
    "collapsed": false,
    "deletable": true,
    "editable": true
   },
   "outputs": [
    {
     "data": {
      "text/plain": [
       "[(18.7, 5.8, 10.7, 15.3, 3.3),\n",
       " (1.8, 7.2, 5.6, 4.8, 14.0),\n",
       " (2.8, 3.8, 6.0, 0.3, 2.9),\n",
       " (5.4, 15.7, 12.6, 9.1, 4.9),\n",
       " (4.5, 1.9, 8.4, 1.2, 0.1)]"
      ]
     },
     "execution_count": 381,
     "metadata": {},
     "output_type": "execute_result"
    }
   ],
   "source": [
    "xy[-5:]"
   ]
  },
  {
   "cell_type": "code",
   "execution_count": 471,
   "metadata": {
    "collapsed": false,
    "deletable": true,
    "editable": true
   },
   "outputs": [
    {
     "ename": "ZeroDivisionError",
     "evalue": "integer division or modulo by zero",
     "output_type": "error",
     "traceback": [
      "\u001b[1;31m---------------------------------------------------------------------------\u001b[0m",
      "\u001b[1;31mZeroDivisionError\u001b[0m                         Traceback (most recent call last)",
      "\u001b[1;32m<ipython-input-471-bf4d1a918492>\u001b[0m in \u001b[0;36m<module>\u001b[1;34m()\u001b[0m\n\u001b[0;32m     74\u001b[0m \u001b[1;31m#     print sum(sum2distDict.values())/count\u001b[0m\u001b[1;33m\u001b[0m\u001b[1;33m\u001b[0m\u001b[0m\n\u001b[0;32m     75\u001b[0m     \u001b[1;32mreturn\u001b[0m \u001b[0msum\u001b[0m\u001b[1;33m(\u001b[0m\u001b[0msum2distDict\u001b[0m\u001b[1;33m.\u001b[0m\u001b[0mvalues\u001b[0m\u001b[1;33m(\u001b[0m\u001b[1;33m)\u001b[0m\u001b[1;33m)\u001b[0m\u001b[1;33m/\u001b[0m\u001b[0mcount\u001b[0m\u001b[1;33m,\u001b[0m\u001b[0mdistortion_dct\u001b[0m\u001b[1;33m\u001b[0m\u001b[0m\n\u001b[1;32m---> 76\u001b[1;33m \u001b[0mDistortion\u001b[0m\u001b[1;33m(\u001b[0m\u001b[0mclusters\u001b[0m\u001b[1;33m,\u001b[0m \u001b[0mcenters\u001b[0m\u001b[1;33m)\u001b[0m\u001b[1;33m\u001b[0m\u001b[0m\n\u001b[0m\u001b[0;32m     77\u001b[0m \u001b[1;31m#distortion\u001b[0m\u001b[1;33m\u001b[0m\u001b[1;33m\u001b[0m\u001b[0m\n",
      "\u001b[1;32m<ipython-input-471-bf4d1a918492>\u001b[0m in \u001b[0;36mDistortion\u001b[1;34m(clusters, centers)\u001b[0m\n\u001b[0;32m     63\u001b[0m         \u001b[0msum2dist\u001b[0m\u001b[1;33m+=\u001b[0m\u001b[0msum2distClust\u001b[0m\u001b[1;33m\u001b[0m\u001b[0m\n\u001b[0;32m     64\u001b[0m         \u001b[0mnumPoints\u001b[0m\u001b[1;33m[\u001b[0m\u001b[0mi\u001b[0m\u001b[1;33m]\u001b[0m\u001b[1;33m=\u001b[0m\u001b[0mnum_points\u001b[0m\u001b[1;33m\u001b[0m\u001b[0m\n\u001b[1;32m---> 65\u001b[1;33m         \u001b[0mdistortion_dct\u001b[0m\u001b[1;33m[\u001b[0m\u001b[0mi\u001b[0m\u001b[1;33m]\u001b[0m\u001b[1;33m=\u001b[0m\u001b[0msum2distClust\u001b[0m\u001b[1;33m/\u001b[0m\u001b[0mnum_points\u001b[0m\u001b[1;33m\u001b[0m\u001b[0m\n\u001b[0m\u001b[0;32m     66\u001b[0m \u001b[1;33m\u001b[0m\u001b[0m\n\u001b[0;32m     67\u001b[0m     \u001b[1;31m#sanity check\u001b[0m\u001b[1;33m\u001b[0m\u001b[1;33m\u001b[0m\u001b[0m\n",
      "\u001b[1;31mZeroDivisionError\u001b[0m: integer division or modulo by zero"
     ]
    }
   ],
   "source": [
    "from collections import defaultdict\n",
    "\n",
    "def EuclideanDistance(p1,p2):\n",
    "    d1,d2=len(p1),len(p2)\n",
    "    if d1!=d2:\n",
    "        print(\"Dimensions do not match!\")\n",
    "        return\n",
    "    dif2 = 0\n",
    "    for i in range(d1):        \n",
    "        dif2 += (p1[i]-p2[i])**2\n",
    "    #print dif2\n",
    "    return math.sqrt(dif2)\n",
    "\n",
    "def FormClusters(points, centers, k):\n",
    "    \n",
    "    \n",
    "    cnt_dct=defaultdict(list)\n",
    "    for point in points:\n",
    "        dist2cent=[]\n",
    "        for center in centers:\n",
    "            #print center, point\n",
    "            dist2cent.append(EuclideanDistance(center,point))\n",
    "            \n",
    "        #print points.index(point)\n",
    "        cnt_dct[dist2cent.index(min(dist2cent))].append(points.index(point))\n",
    "\n",
    "    return cnt_dct\n",
    "#clusters=MaxDistDistortion(xy, centers,k)\n",
    "\n",
    "def MaxDistance(clusters, centers):\n",
    "    dist_dct={}\n",
    "    for i in range(len(clusters)):\n",
    "        cl_points=np.array(xy)[clusters[i]]\n",
    "        maxDist=0\n",
    "        #dist2sum=0\n",
    "        for point in cl_points:\n",
    "            dist=EuclideanDistance(centers[i],point)\n",
    "            if dist>maxDist:\n",
    "                maxDist=dist\n",
    "        dist_dct[i]=maxDist\n",
    "    return dist_dct\n",
    "#dist=MaxDistance(clusters, centers)        \n",
    "#dist\n",
    "\n",
    "def Distortion(clusters, centers):\n",
    "    distortion_dct={}\n",
    "    count=0\n",
    "    sum2dict={}\n",
    "    numPoints={}\n",
    "    for i in range(len(clusters)):\n",
    "        cl_points=np.array(xy)[clusters[i]]\n",
    "        num_points=len(cl_points)\n",
    "        count+=num_points\n",
    "        \n",
    "        #dist2sum=0\n",
    "        sum2distClust=0\n",
    "        for point in cl_points:\n",
    "            \n",
    "            dist=EuclideanDistance(centers[i],point)\n",
    "            sum2distClust+=dist**2\n",
    "        sum2dist[i]=sum2distClust\n",
    "        numPoints[i]=num_points\n",
    "        distortion_dct[i]=sum2distClust/num_points\n",
    "        \n",
    "        #sanity check\n",
    "        denominator=1\n",
    "        sum_term=0\n",
    "        number_product=np.prod(numPoints.values())\n",
    "        for i in range(len(sum2dict)):\n",
    "            denominator=denominator*numPoints[i]\n",
    "            \n",
    "            sum_term+=sum2dict[i]*number_product/numPoints[i]\n",
    "        print sum_term/number_product\n",
    "    return sum(sum2dist.values())/count,distortion_dct\n",
    "#distortion=Distortion(clusters, centers)   \n",
    "#distortion\n"
   ]
  },
  {
   "cell_type": "code",
   "execution_count": 465,
   "metadata": {
    "collapsed": false,
    "deletable": true,
    "editable": true
   },
   "outputs": [
    {
     "data": {
      "text/plain": [
       "[(5.8, 18.3, 27.0, 16.5, 9.3),\n",
       " (0.1, 15.3, 9.7, 1.8, 5.3),\n",
       " (6.4, 13.6, 2.6, 7.3, 2.8),\n",
       " (22.1, 4.8, 0.0, 17.7, 8.1),\n",
       " (5.8, 18.3, 27.0, 16.5, 9.3),\n",
       " (1.3, 1.2, 16.9, 10.8, 14.4),\n",
       " (18.1, 7.6, 14.5, 7.3, 2.1)]"
      ]
     },
     "execution_count": 465,
     "metadata": {},
     "output_type": "execute_result"
    }
   ],
   "source": [
    "centers"
   ]
  },
  {
   "cell_type": "code",
   "execution_count": 447,
   "metadata": {
    "collapsed": false,
    "deletable": true,
    "editable": true
   },
   "outputs": [
    {
     "data": {
      "text/plain": [
       "60"
      ]
     },
     "execution_count": 447,
     "metadata": {},
     "output_type": "execute_result"
    }
   ],
   "source": [
    "l=[3,4,5]\n",
    "np.prod(l)\n",
    "#clusters"
   ]
  },
  {
   "cell_type": "code",
   "execution_count": 448,
   "metadata": {
    "collapsed": false,
    "deletable": true,
    "editable": true
   },
   "outputs": [
    {
     "data": {
      "text/plain": [
       "(4.8, 1.7, 13.1, 14.4, 18.4)"
      ]
     },
     "execution_count": 448,
     "metadata": {},
     "output_type": "execute_result"
    }
   ],
   "source": [
    "rnd.choice(xy)"
   ]
  },
  {
   "cell_type": "markdown",
   "metadata": {
    "deletable": true,
    "editable": true
   },
   "source": [
    "## K-Means Lloyd algorithm "
   ]
  },
  {
   "cell_type": "code",
   "execution_count": 449,
   "metadata": {
    "collapsed": false,
    "deletable": true,
    "editable": true
   },
   "outputs": [],
   "source": [
    "def GravityCenters(clusters, dimensions=d):\n",
    "    centers=[]\n",
    "    for i in range(len(clusters)):\n",
    "        cl_points=np.array(xy)[clusters[i]]\n",
    "        cl_size=len(cl_points)\n",
    "        centers.append(tuple((np.sum(cl_points[:,[i]]))/cl_size for i in range(dimensions)))\n",
    "    return centers\n",
    "\n",
    "#GravityCenters(clusters)\n",
    "\n",
    "def RandomCenters(points, k):\n",
    "    centers=[]\n",
    "    for i in range(k):\n",
    "        centers.append(rnd.choice(points))\n",
    "    return centers"
   ]
  },
  {
   "cell_type": "code",
   "execution_count": 450,
   "metadata": {
    "collapsed": false,
    "deletable": true,
    "editable": true
   },
   "outputs": [
    {
     "data": {
      "text/plain": [
       "5"
      ]
     },
     "execution_count": 450,
     "metadata": {},
     "output_type": "execute_result"
    }
   ],
   "source": [
    "d"
   ]
  },
  {
   "cell_type": "code",
   "execution_count": 451,
   "metadata": {
    "collapsed": false,
    "deletable": true,
    "editable": true
   },
   "outputs": [],
   "source": [
    "#RandomCenters(xy,3)"
   ]
  },
  {
   "cell_type": "code",
   "execution_count": 455,
   "metadata": {
    "collapsed": false,
    "deletable": true,
    "editable": true
   },
   "outputs": [
    {
     "ename": "ZeroDivisionError",
     "evalue": "integer division or modulo by zero",
     "output_type": "error",
     "traceback": [
      "\u001b[1;31m---------------------------------------------------------------------------\u001b[0m",
      "\u001b[1;31mZeroDivisionError\u001b[0m                         Traceback (most recent call last)",
      "\u001b[1;32m<ipython-input-455-9d65725348ce>\u001b[0m in \u001b[0;36m<module>\u001b[1;34m()\u001b[0m\n\u001b[0;32m      5\u001b[0m \u001b[0mclusters\u001b[0m\u001b[1;33m=\u001b[0m\u001b[0mFormClusters\u001b[0m\u001b[1;33m(\u001b[0m\u001b[0mxy\u001b[0m\u001b[1;33m,\u001b[0m \u001b[0mcenters\u001b[0m\u001b[1;33m,\u001b[0m\u001b[0mk\u001b[0m\u001b[1;33m)\u001b[0m\u001b[1;33m\u001b[0m\u001b[0m\n\u001b[0;32m      6\u001b[0m \u001b[0mmaxDistances\u001b[0m\u001b[1;33m=\u001b[0m\u001b[0mMaxDistance\u001b[0m\u001b[1;33m(\u001b[0m\u001b[0mclusters\u001b[0m\u001b[1;33m,\u001b[0m \u001b[0mcenters\u001b[0m\u001b[1;33m)\u001b[0m\u001b[1;33m\u001b[0m\u001b[0m\n\u001b[1;32m----> 7\u001b[1;33m \u001b[0mdistortion\u001b[0m\u001b[1;33m,\u001b[0m\u001b[0mdistortion_clusters\u001b[0m\u001b[1;33m=\u001b[0m\u001b[0mDistortion\u001b[0m\u001b[1;33m(\u001b[0m\u001b[0mclusters\u001b[0m\u001b[1;33m,\u001b[0m\u001b[0mcenters\u001b[0m\u001b[1;33m)\u001b[0m\u001b[1;33m\u001b[0m\u001b[0m\n\u001b[0m\u001b[0;32m      8\u001b[0m \u001b[1;33m\u001b[0m\u001b[0m\n\u001b[0;32m      9\u001b[0m \u001b[1;32mprint\u001b[0m \u001b[1;34m'Random centers:'\u001b[0m\u001b[1;33m,\u001b[0m \u001b[0mcenters\u001b[0m\u001b[1;33m\u001b[0m\u001b[0m\n",
      "\u001b[1;32m<ipython-input-445-0e79ac6fd559>\u001b[0m in \u001b[0;36mDistortion\u001b[1;34m(clusters, centers)\u001b[0m\n\u001b[0;32m     63\u001b[0m         \u001b[0msum2dist\u001b[0m\u001b[1;33m+=\u001b[0m\u001b[0msum2distClust\u001b[0m\u001b[1;33m\u001b[0m\u001b[0m\n\u001b[0;32m     64\u001b[0m         \u001b[0mnumPoints\u001b[0m\u001b[1;33m[\u001b[0m\u001b[0mi\u001b[0m\u001b[1;33m]\u001b[0m\u001b[1;33m=\u001b[0m\u001b[0mnum_points\u001b[0m\u001b[1;33m\u001b[0m\u001b[0m\n\u001b[1;32m---> 65\u001b[1;33m         \u001b[0mdistortion_dct\u001b[0m\u001b[1;33m[\u001b[0m\u001b[0mi\u001b[0m\u001b[1;33m]\u001b[0m\u001b[1;33m=\u001b[0m\u001b[0msum2distClust\u001b[0m\u001b[1;33m/\u001b[0m\u001b[0mnum_points\u001b[0m\u001b[1;33m\u001b[0m\u001b[0m\n\u001b[0m\u001b[0;32m     66\u001b[0m \u001b[1;33m\u001b[0m\u001b[0m\n\u001b[0;32m     67\u001b[0m     \u001b[1;31m#sanity check\u001b[0m\u001b[1;33m\u001b[0m\u001b[1;33m\u001b[0m\u001b[0m\n",
      "\u001b[1;31mZeroDivisionError\u001b[0m: integer division or modulo by zero"
     ]
    }
   ],
   "source": [
    "iterations=1000\n",
    "presision=1e-5\n",
    "\n",
    "centers=RandomCenters(xy,k)\n",
    "clusters=FormClusters(xy, centers,k)\n",
    "maxDistances=MaxDistance(clusters, centers)\n",
    "distortion,distortion_clusters=Distortion(clusters,centers)\n",
    "\n",
    "print 'Random centers:', centers\n",
    "print 'maxDistances: ', maxDistances\n",
    "print 'distortion: ', distortion\n",
    "print 'distortion clusters: ', distortion_clusters\n",
    "\n",
    "i=0\n",
    "print \"####### ENTERING K-MEANS ALGORITHM #######\"\n",
    "while(True):\n",
    "\n",
    "    new_centers=GravityCenters(clusters,d)\n",
    "    new_clusters=FormClusters(xy,new_centers,k)\n",
    "    i+=1\n",
    "    maxDiff =max([EuclideanDistance(centers[j], new_centers[j]) for j in range(len(new_centers))])\n",
    "    maxDistances=MaxDistance(new_clusters, new_centers)\n",
    "    newDistortion,newDistortion_clusters=Distortion(new_clusters,new_centers)\n",
    "    distortionDifference=distortion-newDistortion\n",
    "    \n",
    "    #print \"===  iteration: \",i,\" ===\"\n",
    "    #print 'centers:', [tuple( '%.2f' % elem for elem in tup ) for tup in new_centers]\n",
    "    #[[np.round(float(i), 2) for i in nested] for nested in outerlist]\n",
    "#     print 'maxDistances: ', maxDistances\n",
    "#     print 'distortion: ', distortion\n",
    "#     print 'maxDifference: ', maxDiff\n",
    "#     print \"distortionDifference: \", distortionDifference\n",
    "        \n",
    "    if(i>1000):\n",
    "        print \"===============================\"\n",
    "        print \"Maximum iterations was reached!\"\n",
    "        break\n",
    "    if(maxDiff<presision):\n",
    "        print \"======================================\"\n",
    "        print \"K-Means Lloyd algorithm has converged!\"\n",
    "        break\n",
    "    centers=new_centers\n",
    "    clusters=new_clusters\n",
    "    distortion=newDistortion\n",
    "    distortion_clusters=newDistortion_clusters\n",
    "print \"maxIterations\", i\n",
    "print 'maxDistances: ', maxDistances\n",
    "print 'distortion: ', distortion\n",
    "print 'maxDifference: ', maxDiff\n",
    "print \"distortionDifference: \", distortionDifference\n",
    "print 'distortion clusters: ', distortion_clusters\n",
    "#printing_formatting centers\n",
    "for center in centers:\n",
    "    line=\"\"\n",
    "    for coordinate in center:\n",
    "        line+=str('%.3f' % coordinate)+\" \"\n",
    "    print line\n",
    "    "
   ]
  },
  {
   "cell_type": "code",
   "execution_count": 459,
   "metadata": {
    "collapsed": false,
    "deletable": true,
    "editable": true
   },
   "outputs": [],
   "source": [
    "def K_Means(points, k, d,startRandomCenters=True, iterations=1000, presision=1e-5, verbose=True):\n",
    "    \n",
    "    if startRandomCenters:\n",
    "        centers=RandomCenters(points,k)\n",
    "    else:\n",
    "        #doing the first k points as centers\n",
    "        centers=points[:k]\n",
    "    clusters=FormClusters(points, centers,k)\n",
    "    maxDistances=MaxDistance(clusters, centers)\n",
    "    distortion,distortion_clusters=Distortion(clusters,centers)\n",
    "    if verbose:\n",
    "        print 'Random centers:', centers\n",
    "        print 'maxDistances: ', maxDistances\n",
    "        print 'distortion: ', distortion\n",
    "        print 'distortion clusters: ', distortion_clusters\n",
    "\n",
    "    i=0\n",
    "    if verbose:\n",
    "        print \"####### ENTERING K-MEANS ALGORITHM #######\"\n",
    "    while(True):\n",
    "\n",
    "        new_centers=GravityCenters(clusters,d)\n",
    "        new_clusters=FormClusters(points,new_centers,k)\n",
    "        i+=1\n",
    "        maxDiff =max([EuclideanDistance(centers[j], new_centers[j]) for j in range(len(new_centers))])\n",
    "        maxDistances=MaxDistance(new_clusters, new_centers)\n",
    "        newDistortion,newDistortion_clusters=Distortion(new_clusters,new_centers)\n",
    "        distortionDifference=distortion-newDistortion\n",
    "        if verbose:\n",
    "            print \"===  iteration: \",i,\" ===\"\n",
    "            print 'centers:', [tuple( '%.2f' % elem for elem in tup ) for tup in new_centers]\n",
    "        #[[np.round(float(i), 2) for i in nested] for nested in outerlist]\n",
    "    #     print 'maxDistances: ', maxDistances\n",
    "    #     print 'distortion: ', distortion\n",
    "    #     print 'maxDifference: ', maxDiff\n",
    "    #     print \"distortionDifference: \", distortionDifference\n",
    "\n",
    "        if(i>1000):\n",
    "            if verbose:\n",
    "                print \"===============================\"\n",
    "                print \"Maximum iterations was reached!\"\n",
    "            break\n",
    "        if(maxDiff<presision):\n",
    "            if verbose:\n",
    "                print \"======================================\"\n",
    "                print \"K-Means Lloyd algorithm has converged!\"\n",
    "            break\n",
    "        centers=new_centers\n",
    "        clusters=new_clusters\n",
    "        distortion=newDistortion\n",
    "    if verbose:\n",
    "        print \"maxIterations\", i\n",
    "        print 'maxDistances: ', maxDistances\n",
    "        print 'distortion: ', distortion\n",
    "        print 'maxDifference: ', maxDiff\n",
    "        print \"distortionDifference: \", distortionDifference\n",
    "        print 'distortion clusters: ', distortion_clusters\n",
    "\n",
    "    #printing_formatting centers\n",
    "    if verbose:\n",
    "        for center in centers:\n",
    "            line=\"\"\n",
    "            for coordinate in center:\n",
    "                line+=str('%.3f' % coordinate)+\" \"\n",
    "            print line\n",
    "    return centers,maxDistances,maxDiff,distortionDifference,distortion_clusters,i,distortion"
   ]
  },
  {
   "cell_type": "code",
   "execution_count": 460,
   "metadata": {
    "collapsed": false,
    "deletable": true,
    "editable": true
   },
   "outputs": [
    {
     "ename": "TypeError",
     "evalue": "'int' object is not iterable",
     "output_type": "error",
     "traceback": [
      "\u001b[1;31m---------------------------------------------------------------------------\u001b[0m",
      "\u001b[1;31mTypeError\u001b[0m                                 Traceback (most recent call last)",
      "\u001b[1;32m<ipython-input-460-dcd5cfe5665b>\u001b[0m in \u001b[0;36m<module>\u001b[1;34m()\u001b[0m\n\u001b[1;32m----> 1\u001b[1;33m \u001b[0mK_Means\u001b[0m\u001b[1;33m(\u001b[0m\u001b[0mxy\u001b[0m\u001b[1;33m,\u001b[0m \u001b[0mk\u001b[0m\u001b[1;33m,\u001b[0m \u001b[0md\u001b[0m\u001b[1;33m,\u001b[0m \u001b[0mstartRandomCenters\u001b[0m\u001b[1;33m=\u001b[0m\u001b[0mFalse\u001b[0m\u001b[1;33m,\u001b[0m \u001b[0mverbose\u001b[0m\u001b[1;33m=\u001b[0m\u001b[0mFalse\u001b[0m\u001b[1;33m)\u001b[0m\u001b[1;33m\u001b[0m\u001b[0m\n\u001b[0m",
      "\u001b[1;32m<ipython-input-459-40062b5411cf>\u001b[0m in \u001b[0;36mK_Means\u001b[1;34m(points, k, d, startRandomCenters, iterations, presision, verbose)\u001b[0m\n\u001b[0;32m      8\u001b[0m     \u001b[0mclusters\u001b[0m\u001b[1;33m=\u001b[0m\u001b[0mFormClusters\u001b[0m\u001b[1;33m(\u001b[0m\u001b[0mpoints\u001b[0m\u001b[1;33m,\u001b[0m \u001b[0mcenters\u001b[0m\u001b[1;33m,\u001b[0m\u001b[0mk\u001b[0m\u001b[1;33m)\u001b[0m\u001b[1;33m\u001b[0m\u001b[0m\n\u001b[0;32m      9\u001b[0m     \u001b[0mmaxDistances\u001b[0m\u001b[1;33m=\u001b[0m\u001b[0mMaxDistance\u001b[0m\u001b[1;33m(\u001b[0m\u001b[0mclusters\u001b[0m\u001b[1;33m,\u001b[0m \u001b[0mcenters\u001b[0m\u001b[1;33m)\u001b[0m\u001b[1;33m\u001b[0m\u001b[0m\n\u001b[1;32m---> 10\u001b[1;33m     \u001b[0mdistortion\u001b[0m\u001b[1;33m,\u001b[0m\u001b[0mdistortion_clusters\u001b[0m\u001b[1;33m=\u001b[0m\u001b[0mDistortion\u001b[0m\u001b[1;33m(\u001b[0m\u001b[0mclusters\u001b[0m\u001b[1;33m,\u001b[0m\u001b[0mcenters\u001b[0m\u001b[1;33m)\u001b[0m\u001b[1;33m\u001b[0m\u001b[0m\n\u001b[0m\u001b[0;32m     11\u001b[0m     \u001b[1;32mif\u001b[0m \u001b[0mverbose\u001b[0m\u001b[1;33m:\u001b[0m\u001b[1;33m\u001b[0m\u001b[0m\n\u001b[0;32m     12\u001b[0m         \u001b[1;32mprint\u001b[0m \u001b[1;34m'Random centers:'\u001b[0m\u001b[1;33m,\u001b[0m \u001b[0mcenters\u001b[0m\u001b[1;33m\u001b[0m\u001b[0m\n",
      "\u001b[1;31mTypeError\u001b[0m: 'int' object is not iterable"
     ]
    }
   ],
   "source": [
    "K_Means(xy, k, d, startRandomCenters=False, verbose=False)"
   ]
  },
  {
   "cell_type": "code",
   "execution_count": 411,
   "metadata": {
    "collapsed": false,
    "deletable": true,
    "editable": true
   },
   "outputs": [
    {
     "ename": "ZeroDivisionError",
     "evalue": "integer division or modulo by zero",
     "output_type": "error",
     "traceback": [
      "\u001b[1;31m---------------------------------------------------------------------------\u001b[0m",
      "\u001b[1;31mZeroDivisionError\u001b[0m                         Traceback (most recent call last)",
      "\u001b[1;32m<ipython-input-411-df30a817ef7d>\u001b[0m in \u001b[0;36m<module>\u001b[1;34m()\u001b[0m\n\u001b[1;32m----> 1\u001b[1;33m \u001b[0mget_ipython\u001b[0m\u001b[1;33m(\u001b[0m\u001b[1;33m)\u001b[0m\u001b[1;33m.\u001b[0m\u001b[0mrun_cell_magic\u001b[0m\u001b[1;33m(\u001b[0m\u001b[1;34mu'time'\u001b[0m\u001b[1;33m,\u001b[0m \u001b[1;34mu''\u001b[0m\u001b[1;33m,\u001b[0m \u001b[1;34mu'minDist=np.inf\\nfor i in range(100):\\n    data=K_Means(xy,k,d, verbose=False)\\n    if data[-1]<minDist:\\n        minDist=data[-1]\\n        #print data[-1]\\n        bestData=data\\nprint \"maxIterations\", bestData[-2]\\nprint \\'maxDistances: \\', bestData[1]\\nprint \\'distortion: \\', bestData[-1]\\nprint \\'maxDifference: \\', bestData[2]\\nprint \"distortionDifference: \", bestData[3]\\nprint \"distortionClusters: \", bestData[-3]\\nprint \"===== centers =====\"\\nfor center in bestData[0]:\\n    line=\"\"\\n    for coordinate in center:\\n        line+=str(\\'%.3f\\' % coordinate)+\" \"\\n    print line'\u001b[0m\u001b[1;33m)\u001b[0m\u001b[1;33m\u001b[0m\u001b[0m\n\u001b[0m",
      "\u001b[1;32mC:\\Users\\Andriy\\AppData\\Local\\Enthought\\Canopy\\User\\lib\\site-packages\\IPython\\core\\interactiveshell.pyc\u001b[0m in \u001b[0;36mrun_cell_magic\u001b[1;34m(self, magic_name, line, cell)\u001b[0m\n\u001b[0;32m   2118\u001b[0m             \u001b[0mmagic_arg_s\u001b[0m \u001b[1;33m=\u001b[0m \u001b[0mself\u001b[0m\u001b[1;33m.\u001b[0m\u001b[0mvar_expand\u001b[0m\u001b[1;33m(\u001b[0m\u001b[0mline\u001b[0m\u001b[1;33m,\u001b[0m \u001b[0mstack_depth\u001b[0m\u001b[1;33m)\u001b[0m\u001b[1;33m\u001b[0m\u001b[0m\n\u001b[0;32m   2119\u001b[0m             \u001b[1;32mwith\u001b[0m \u001b[0mself\u001b[0m\u001b[1;33m.\u001b[0m\u001b[0mbuiltin_trap\u001b[0m\u001b[1;33m:\u001b[0m\u001b[1;33m\u001b[0m\u001b[0m\n\u001b[1;32m-> 2120\u001b[1;33m                 \u001b[0mresult\u001b[0m \u001b[1;33m=\u001b[0m \u001b[0mfn\u001b[0m\u001b[1;33m(\u001b[0m\u001b[0mmagic_arg_s\u001b[0m\u001b[1;33m,\u001b[0m \u001b[0mcell\u001b[0m\u001b[1;33m)\u001b[0m\u001b[1;33m\u001b[0m\u001b[0m\n\u001b[0m\u001b[0;32m   2121\u001b[0m             \u001b[1;32mreturn\u001b[0m \u001b[0mresult\u001b[0m\u001b[1;33m\u001b[0m\u001b[0m\n\u001b[0;32m   2122\u001b[0m \u001b[1;33m\u001b[0m\u001b[0m\n",
      "\u001b[1;32m<decorator-gen-61>\u001b[0m in \u001b[0;36mtime\u001b[1;34m(self, line, cell, local_ns)\u001b[0m\n",
      "\u001b[1;32mC:\\Users\\Andriy\\AppData\\Local\\Enthought\\Canopy\\User\\lib\\site-packages\\IPython\\core\\magic.pyc\u001b[0m in \u001b[0;36m<lambda>\u001b[1;34m(f, *a, **k)\u001b[0m\n\u001b[0;32m    191\u001b[0m     \u001b[1;31m# but it's overkill for just that one bit of state.\u001b[0m\u001b[1;33m\u001b[0m\u001b[1;33m\u001b[0m\u001b[0m\n\u001b[0;32m    192\u001b[0m     \u001b[1;32mdef\u001b[0m \u001b[0mmagic_deco\u001b[0m\u001b[1;33m(\u001b[0m\u001b[0marg\u001b[0m\u001b[1;33m)\u001b[0m\u001b[1;33m:\u001b[0m\u001b[1;33m\u001b[0m\u001b[0m\n\u001b[1;32m--> 193\u001b[1;33m         \u001b[0mcall\u001b[0m \u001b[1;33m=\u001b[0m \u001b[1;32mlambda\u001b[0m \u001b[0mf\u001b[0m\u001b[1;33m,\u001b[0m \u001b[1;33m*\u001b[0m\u001b[0ma\u001b[0m\u001b[1;33m,\u001b[0m \u001b[1;33m**\u001b[0m\u001b[0mk\u001b[0m\u001b[1;33m:\u001b[0m \u001b[0mf\u001b[0m\u001b[1;33m(\u001b[0m\u001b[1;33m*\u001b[0m\u001b[0ma\u001b[0m\u001b[1;33m,\u001b[0m \u001b[1;33m**\u001b[0m\u001b[0mk\u001b[0m\u001b[1;33m)\u001b[0m\u001b[1;33m\u001b[0m\u001b[0m\n\u001b[0m\u001b[0;32m    194\u001b[0m \u001b[1;33m\u001b[0m\u001b[0m\n\u001b[0;32m    195\u001b[0m         \u001b[1;32mif\u001b[0m \u001b[0mcallable\u001b[0m\u001b[1;33m(\u001b[0m\u001b[0marg\u001b[0m\u001b[1;33m)\u001b[0m\u001b[1;33m:\u001b[0m\u001b[1;33m\u001b[0m\u001b[0m\n",
      "\u001b[1;32mC:\\Users\\Andriy\\AppData\\Local\\Enthought\\Canopy\\User\\lib\\site-packages\\IPython\\core\\magics\\execution.pyc\u001b[0m in \u001b[0;36mtime\u001b[1;34m(self, line, cell, local_ns)\u001b[0m\n\u001b[0;32m   1175\u001b[0m         \u001b[1;32melse\u001b[0m\u001b[1;33m:\u001b[0m\u001b[1;33m\u001b[0m\u001b[0m\n\u001b[0;32m   1176\u001b[0m             \u001b[0mst\u001b[0m \u001b[1;33m=\u001b[0m \u001b[0mclock2\u001b[0m\u001b[1;33m(\u001b[0m\u001b[1;33m)\u001b[0m\u001b[1;33m\u001b[0m\u001b[0m\n\u001b[1;32m-> 1177\u001b[1;33m             \u001b[1;32mexec\u001b[0m\u001b[1;33m(\u001b[0m\u001b[0mcode\u001b[0m\u001b[1;33m,\u001b[0m \u001b[0mglob\u001b[0m\u001b[1;33m,\u001b[0m \u001b[0mlocal_ns\u001b[0m\u001b[1;33m)\u001b[0m\u001b[1;33m\u001b[0m\u001b[0m\n\u001b[0m\u001b[0;32m   1178\u001b[0m             \u001b[0mend\u001b[0m \u001b[1;33m=\u001b[0m \u001b[0mclock2\u001b[0m\u001b[1;33m(\u001b[0m\u001b[1;33m)\u001b[0m\u001b[1;33m\u001b[0m\u001b[0m\n\u001b[0;32m   1179\u001b[0m             \u001b[0mout\u001b[0m \u001b[1;33m=\u001b[0m \u001b[0mNone\u001b[0m\u001b[1;33m\u001b[0m\u001b[0m\n",
      "\u001b[1;32m<timed exec>\u001b[0m in \u001b[0;36m<module>\u001b[1;34m()\u001b[0m\n",
      "\u001b[1;32m<ipython-input-409-40062b5411cf>\u001b[0m in \u001b[0;36mK_Means\u001b[1;34m(points, k, d, startRandomCenters, iterations, presision, verbose)\u001b[0m\n\u001b[0;32m      8\u001b[0m     \u001b[0mclusters\u001b[0m\u001b[1;33m=\u001b[0m\u001b[0mFormClusters\u001b[0m\u001b[1;33m(\u001b[0m\u001b[0mpoints\u001b[0m\u001b[1;33m,\u001b[0m \u001b[0mcenters\u001b[0m\u001b[1;33m,\u001b[0m\u001b[0mk\u001b[0m\u001b[1;33m)\u001b[0m\u001b[1;33m\u001b[0m\u001b[0m\n\u001b[0;32m      9\u001b[0m     \u001b[0mmaxDistances\u001b[0m\u001b[1;33m=\u001b[0m\u001b[0mMaxDistance\u001b[0m\u001b[1;33m(\u001b[0m\u001b[0mclusters\u001b[0m\u001b[1;33m,\u001b[0m \u001b[0mcenters\u001b[0m\u001b[1;33m)\u001b[0m\u001b[1;33m\u001b[0m\u001b[0m\n\u001b[1;32m---> 10\u001b[1;33m     \u001b[0mdistortion\u001b[0m\u001b[1;33m,\u001b[0m\u001b[0mdistortion_clusters\u001b[0m\u001b[1;33m=\u001b[0m\u001b[0mDistortion\u001b[0m\u001b[1;33m(\u001b[0m\u001b[0mclusters\u001b[0m\u001b[1;33m,\u001b[0m\u001b[0mcenters\u001b[0m\u001b[1;33m)\u001b[0m\u001b[1;33m\u001b[0m\u001b[0m\n\u001b[0m\u001b[0;32m     11\u001b[0m     \u001b[1;32mif\u001b[0m \u001b[0mverbose\u001b[0m\u001b[1;33m:\u001b[0m\u001b[1;33m\u001b[0m\u001b[0m\n\u001b[0;32m     12\u001b[0m         \u001b[1;32mprint\u001b[0m \u001b[1;34m'Random centers:'\u001b[0m\u001b[1;33m,\u001b[0m \u001b[0mcenters\u001b[0m\u001b[1;33m\u001b[0m\u001b[0m\n",
      "\u001b[1;32m<ipython-input-408-73a7184bf24e>\u001b[0m in \u001b[0;36mDistortion\u001b[1;34m(clusters, centers)\u001b[0m\n\u001b[0;32m     58\u001b[0m             \u001b[0msum2distClust\u001b[0m\u001b[1;33m+=\u001b[0m\u001b[0mdist\u001b[0m\u001b[1;33m**\u001b[0m\u001b[1;36m2\u001b[0m\u001b[1;33m\u001b[0m\u001b[0m\n\u001b[0;32m     59\u001b[0m         \u001b[0msum2dist\u001b[0m\u001b[1;33m+=\u001b[0m\u001b[0msum2distClust\u001b[0m\u001b[1;33m\u001b[0m\u001b[0m\n\u001b[1;32m---> 60\u001b[1;33m         \u001b[0mdistortion_dct\u001b[0m\u001b[1;33m[\u001b[0m\u001b[0mi\u001b[0m\u001b[1;33m]\u001b[0m\u001b[1;33m=\u001b[0m\u001b[0msum2distClust\u001b[0m\u001b[1;33m/\u001b[0m\u001b[0mlen\u001b[0m\u001b[1;33m(\u001b[0m\u001b[0mcl_points\u001b[0m\u001b[1;33m)\u001b[0m\u001b[1;33m\u001b[0m\u001b[0m\n\u001b[0m\u001b[0;32m     61\u001b[0m \u001b[1;33m\u001b[0m\u001b[0m\n\u001b[0;32m     62\u001b[0m     \u001b[1;32mreturn\u001b[0m \u001b[0msum2dist\u001b[0m\u001b[1;33m/\u001b[0m\u001b[0mcount\u001b[0m\u001b[1;33m,\u001b[0m\u001b[0mdistortion_dct\u001b[0m\u001b[1;33m\u001b[0m\u001b[0m\n",
      "\u001b[1;31mZeroDivisionError\u001b[0m: integer division or modulo by zero"
     ]
    }
   ],
   "source": [
    "%%time\n",
    "minDist=np.inf\n",
    "for i in range(100):\n",
    "    data=K_Means(xy,k,d, verbose=False)\n",
    "    if data[-1]<minDist:\n",
    "        minDist=data[-1]\n",
    "        #print data[-1]\n",
    "        bestData=data\n",
    "print \"maxIterations\", bestData[-2]\n",
    "print 'maxDistances: ', bestData[1]\n",
    "print 'distortion: ', bestData[-1]\n",
    "print 'maxDifference: ', bestData[2]\n",
    "print \"distortionDifference: \", bestData[3]\n",
    "print \"distortionClusters: \", bestData[-3]\n",
    "print \"===== centers =====\"\n",
    "for center in bestData[0]:\n",
    "    line=\"\"\n",
    "    for coordinate in center:\n",
    "        line+=str('%.3f' % coordinate)+\" \"\n",
    "    print line"
   ]
  },
  {
   "cell_type": "code",
   "execution_count": 345,
   "metadata": {
    "collapsed": false,
    "deletable": true,
    "editable": true
   },
   "outputs": [
    {
     "data": {
      "text/plain": [
       "[(7.3, 12.9, 12.9, 2.5, 10.7), (4.9, 4.3, 13.8, 1.8, 9.2)]"
      ]
     },
     "execution_count": 345,
     "metadata": {},
     "output_type": "execute_result"
    }
   ],
   "source": [
    "xy[-2:]"
   ]
  },
  {
   "cell_type": "code",
   "execution_count": null,
   "metadata": {
    "collapsed": true,
    "deletable": true,
    "editable": true
   },
   "outputs": [],
   "source": []
  },
  {
   "cell_type": "code",
   "execution_count": 152,
   "metadata": {
    "collapsed": false,
    "deletable": true,
    "editable": true
   },
   "outputs": [
    {
     "data": {
      "text/plain": [
       "496.40000000000003"
      ]
     },
     "execution_count": 152,
     "metadata": {},
     "output_type": "execute_result"
    }
   ],
   "source": [
    "np.sum(np.array(xy)[clusters[0]][:,[0]])"
   ]
  },
  {
   "cell_type": "code",
   "execution_count": null,
   "metadata": {
    "collapsed": true,
    "deletable": true,
    "editable": true
   },
   "outputs": [],
   "source": []
  },
  {
   "cell_type": "code",
   "execution_count": 107,
   "metadata": {
    "collapsed": false,
    "deletable": true,
    "editable": true
   },
   "outputs": [
    {
     "name": "stdout",
     "output_type": "stream",
     "text": [
      "0 [1, 2, 3, 4, 6, 7, 17, 19, 23, 24, 25, 31, 32, 34, 37, 43, 46, 48, 49, 50, 52, 57, 58, 62, 63, 64, 65, 66, 69, 72, 73, 76, 82, 87, 88, 89, 90, 91, 92, 93, 94, 98, 99, 101, 103, 107, 110, 113, 115, 116, 118, 121, 122, 123, 124, 125, 128, 130, 133, 138, 141, 143, 146, 148, 150, 152, 153, 158, 161, 162, 165, 167, 168, 170, 174, 176, 178, 180, 182, 186, 187, 189, 191, 192, 193, 198, 203, 205, 206, 209, 210, 212, 214, 215, 218, 220, 224, 230, 231, 232, 233, 235, 236, 238, 240, 241, 247, 250, 252, 254, 257, 260, 264, 266, 267, 268, 270, 274, 275, 278, 279, 280, 282, 287, 289, 290, 293, 294, 295, 299, 300, 301, 303, 304, 306, 308, 309, 312, 313, 314, 316, 321, 323, 325, 327, 330, 334, 336, 339, 340, 341, 342, 344, 345, 347, 348, 350, 353, 358, 361, 362, 366, 369, 370, 371, 372, 377, 383, 384, 385, 387, 391, 397, 400, 401, 402, 404, 405, 409, 412, 415, 416, 417, 418, 422, 427, 429, 430, 434, 435, 436, 439, 441, 442, 444, 447, 451, 452, 455, 456, 460, 461, 462, 464, 466, 467, 468, 469, 475, 476, 477, 481, 483, 490, 491, 493, 495, 496, 497, 498, 499, 500, 502, 503, 507, 516, 519, 522, 529, 530, 534, 535, 536, 538, 540, 542, 546, 547, 554, 562, 567, 574, 575, 576, 578, 579, 580, 584, 586, 588, 589, 590, 592, 595, 596, 599, 601, 604, 607, 608, 609, 610, 614, 615, 616, 617, 619, 620, 621, 622, 623, 625, 626, 628, 635, 640, 641, 643, 644, 645, 648, 649, 651, 653, 657, 658, 660, 664, 666, 667, 668, 669, 670, 671, 676, 679, 681, 685, 687, 691, 692, 699, 701, 704, 706, 708, 712, 717, 719, 720, 727, 731, 734, 736, 738, 739, 740, 741, 744, 749, 751, 755, 758, 763, 764, 767, 770, 771, 773, 774, 775, 777, 781, 783, 785, 786, 791, 792, 794, 802, 804, 809, 812, 815, 816, 819, 823, 825, 827, 829, 831, 834, 836, 838, 842, 844, 845, 850, 851, 852, 854, 856, 859, 860, 863, 865, 868, 872, 873, 874, 876, 878, 879, 880, 882, 883, 884, 885, 886, 888, 892, 893, 894, 901, 902, 903, 907, 909, 910, 911, 912, 913, 916, 918, 919, 920, 921, 922, 925, 926, 927, 928, 929, 931, 932, 940, 941, 942, 945, 948, 949, 950, 952, 953, 956, 957, 958, 960, 961, 965, 966, 972, 973, 975, 977, 978, 979, 982, 983, 984, 986, 991, 992, 993, 995, 996, 997, 999, 1000, 1001]\n",
      "1 [8, 10, 16, 21, 29, 36, 39, 51, 74, 97, 117, 134, 136, 140, 147, 164, 173, 185, 194, 195, 199, 201, 221, 223, 228, 239, 243, 245, 249, 256, 258, 259, 273, 276, 288, 291, 298, 320, 346, 354, 364, 376, 379, 382, 413, 478, 482, 485, 494, 508, 510, 512, 520, 521, 524, 531, 539, 541, 560, 564, 582, 597, 598, 612, 613, 630, 631, 636, 637, 650, 663, 684, 696, 697, 700, 702, 707, 711, 716, 722, 724, 726, 728, 733, 743, 752, 756, 757, 761, 762, 768, 776, 797, 798, 808, 818, 822, 841, 847, 848, 861, 862, 870, 875, 877, 881, 896, 915, 924, 936, 943, 962, 964, 967]\n",
      "2 [13, 35, 70, 85, 111, 112, 129, 135, 181, 197, 222, 237, 246, 251, 255, 263, 284, 338, 343, 363, 373, 375, 390, 394, 410, 421, 424, 432, 438, 440, 472, 532, 555, 557, 561, 587, 695, 709, 713, 753, 754, 810, 835, 853, 864, 900, 935, 955, 980, 985]\n",
      "3 [5, 14, 15, 20, 26, 28, 30, 38, 40, 44, 53, 54, 55, 56, 59, 67, 71, 75, 77, 80, 81, 83, 84, 86, 100, 102, 104, 106, 109, 120, 126, 132, 139, 145, 149, 154, 155, 156, 157, 159, 160, 163, 166, 171, 179, 188, 190, 196, 202, 204, 211, 213, 216, 219, 225, 226, 227, 242, 248, 253, 261, 265, 269, 271, 281, 283, 285, 286, 305, 307, 310, 311, 315, 317, 322, 324, 326, 329, 332, 333, 335, 337, 349, 352, 355, 356, 368, 374, 380, 388, 389, 392, 393, 395, 396, 398, 399, 406, 408, 411, 414, 419, 420, 423, 425, 426, 428, 431, 437, 443, 449, 450, 457, 458, 459, 463, 470, 471, 479, 480, 484, 488, 489, 492, 504, 506, 509, 511, 513, 515, 517, 518, 523, 525, 526, 527, 533, 537, 543, 544, 545, 550, 551, 552, 553, 559, 563, 565, 570, 572, 573, 577, 591, 593, 594, 600, 602, 603, 605, 606, 618, 627, 632, 634, 638, 642, 646, 647, 652, 654, 656, 661, 662, 665, 672, 673, 674, 675, 677, 678, 680, 682, 686, 689, 690, 693, 694, 698, 703, 705, 714, 715, 718, 721, 723, 725, 729, 730, 732, 735, 745, 746, 759, 760, 765, 766, 769, 778, 779, 782, 784, 787, 788, 793, 795, 799, 800, 801, 805, 807, 811, 814, 820, 821, 828, 830, 832, 837, 843, 846, 849, 855, 858, 866, 869, 871, 895, 897, 898, 899, 906, 908, 914, 917, 930, 933, 934, 937, 939, 951, 954, 959, 963, 968, 970, 974, 976, 981, 987, 989, 990, 994, 998]\n",
      "4 [0, 9, 11, 12, 18, 22, 27, 33, 41, 42, 45, 47, 60, 61, 68, 78, 79, 95, 96, 105, 108, 114, 119, 127, 131, 137, 142, 144, 151, 169, 172, 175, 177, 183, 184, 200, 207, 208, 217, 229, 234, 244, 262, 272, 277, 292, 296, 297, 302, 318, 319, 328, 331, 351, 357, 359, 360, 365, 367, 378, 381, 386, 403, 407, 433, 445, 446, 448, 453, 454, 465, 473, 474, 486, 487, 501, 505, 514, 528, 548, 549, 556, 558, 566, 568, 569, 571, 581, 583, 585, 611, 624, 629, 633, 639, 655, 659, 683, 688, 710, 737, 742, 747, 748, 750, 772, 780, 789, 790, 796, 803, 806, 813, 817, 824, 826, 833, 839, 840, 857, 867, 887, 889, 890, 891, 904, 905, 923, 938, 944, 946, 947, 969, 971, 988]\n"
     ]
    }
   ],
   "source": []
  },
  {
   "cell_type": "code",
   "execution_count": null,
   "metadata": {
    "collapsed": true,
    "deletable": true,
    "editable": true
   },
   "outputs": [],
   "source": []
  },
  {
   "cell_type": "code",
   "execution_count": null,
   "metadata": {
    "collapsed": true,
    "deletable": true,
    "editable": true
   },
   "outputs": [],
   "source": []
  },
  {
   "cell_type": "code",
   "execution_count": null,
   "metadata": {
    "collapsed": true,
    "deletable": true,
    "editable": true
   },
   "outputs": [],
   "source": []
  },
  {
   "cell_type": "code",
   "execution_count": null,
   "metadata": {
    "collapsed": true,
    "deletable": true,
    "editable": true
   },
   "outputs": [],
   "source": []
  },
  {
   "cell_type": "code",
   "execution_count": null,
   "metadata": {
    "collapsed": true,
    "deletable": true,
    "editable": true
   },
   "outputs": [],
   "source": []
  },
  {
   "cell_type": "code",
   "execution_count": null,
   "metadata": {
    "collapsed": true,
    "deletable": true,
    "editable": true
   },
   "outputs": [],
   "source": []
  },
  {
   "cell_type": "code",
   "execution_count": null,
   "metadata": {
    "collapsed": true,
    "deletable": true,
    "editable": true
   },
   "outputs": [],
   "source": []
  },
  {
   "cell_type": "code",
   "execution_count": null,
   "metadata": {
    "collapsed": true,
    "deletable": true,
    "editable": true
   },
   "outputs": [],
   "source": []
  },
  {
   "cell_type": "code",
   "execution_count": null,
   "metadata": {
    "collapsed": true,
    "deletable": true,
    "editable": true
   },
   "outputs": [],
   "source": []
  },
  {
   "cell_type": "code",
   "execution_count": null,
   "metadata": {
    "collapsed": true,
    "deletable": true,
    "editable": true
   },
   "outputs": [],
   "source": []
  },
  {
   "cell_type": "code",
   "execution_count": null,
   "metadata": {
    "collapsed": true,
    "deletable": true,
    "editable": true
   },
   "outputs": [],
   "source": []
  },
  {
   "cell_type": "code",
   "execution_count": null,
   "metadata": {
    "collapsed": true,
    "deletable": true,
    "editable": true
   },
   "outputs": [],
   "source": []
  },
  {
   "cell_type": "code",
   "execution_count": null,
   "metadata": {
    "collapsed": true,
    "deletable": true,
    "editable": true
   },
   "outputs": [],
   "source": []
  },
  {
   "cell_type": "code",
   "execution_count": null,
   "metadata": {
    "collapsed": true,
    "deletable": true,
    "editable": true
   },
   "outputs": [],
   "source": []
  },
  {
   "cell_type": "code",
   "execution_count": 112,
   "metadata": {
    "collapsed": false,
    "deletable": true,
    "editable": true
   },
   "outputs": [
    {
     "data": {
      "text/plain": [
       "114"
      ]
     },
     "execution_count": 112,
     "metadata": {},
     "output_type": "execute_result"
    }
   ],
   "source": [
    "len(clusters[1])"
   ]
  },
  {
   "cell_type": "code",
   "execution_count": 133,
   "metadata": {
    "collapsed": false,
    "deletable": true,
    "editable": true
   },
   "outputs": [
    {
     "data": {
      "text/plain": [
       "114"
      ]
     },
     "execution_count": 133,
     "metadata": {},
     "output_type": "execute_result"
    }
   ],
   "source": [
    "len(np.array(xy)[clusters[1]])\n"
   ]
  },
  {
   "cell_type": "code",
   "execution_count": 122,
   "metadata": {
    "collapsed": false,
    "deletable": true,
    "editable": true
   },
   "outputs": [
    {
     "data": {
      "text/plain": [
       "(1.5, 3.9, 4.7, 8.9, 4.6)"
      ]
     },
     "execution_count": 122,
     "metadata": {},
     "output_type": "execute_result"
    }
   ],
   "source": [
    "xy[2]"
   ]
  },
  {
   "cell_type": "code",
   "execution_count": 63,
   "metadata": {
    "collapsed": false,
    "deletable": true,
    "editable": true
   },
   "outputs": [
    {
     "data": {
      "text/plain": [
       "[]"
      ]
     },
     "execution_count": 63,
     "metadata": {},
     "output_type": "execute_result"
    }
   ],
   "source": [
    "dct[0]"
   ]
  },
  {
   "cell_type": "code",
   "execution_count": null,
   "metadata": {
    "collapsed": true,
    "deletable": true,
    "editable": true
   },
   "outputs": [],
   "source": []
  },
  {
   "cell_type": "code",
   "execution_count": null,
   "metadata": {
    "collapsed": true,
    "deletable": true,
    "editable": true
   },
   "outputs": [],
   "source": []
  },
  {
   "cell_type": "code",
   "execution_count": null,
   "metadata": {
    "collapsed": true,
    "deletable": true,
    "editable": true
   },
   "outputs": [],
   "source": []
  },
  {
   "cell_type": "code",
   "execution_count": null,
   "metadata": {
    "collapsed": true,
    "deletable": true,
    "editable": true
   },
   "outputs": [],
   "source": []
  },
  {
   "cell_type": "code",
   "execution_count": 3,
   "metadata": {
    "collapsed": false,
    "deletable": true,
    "editable": true
   },
   "outputs": [
    {
     "data": {
      "text/plain": [
       "[(9.4, 7.5), (9.4, 9.6), (3.1, 6.6)]"
      ]
     },
     "execution_count": 3,
     "metadata": {},
     "output_type": "execute_result"
    }
   ],
   "source": [
    "\n",
    "#random.choice(xy)\n",
    "ctr=[]\n",
    "for i in range(0,3):\n",
    "    pnt=xy[rnd.randint(0,len(xy)-1)]\n",
    "    if pnt not in ctr:\n",
    "        ctr.append(pnt)\n",
    "ctr"
   ]
  },
  {
   "cell_type": "code",
   "execution_count": 291,
   "metadata": {
    "collapsed": false,
    "deletable": true,
    "editable": true
   },
   "outputs": [
    {
     "data": {
      "text/plain": [
       "['0.0',\n",
       " '0.0',\n",
       " '5.0',\n",
       " '5.0',\n",
       " '0.0',\n",
       " '5.0',\n",
       " '1.0',\n",
       " '1.0',\n",
       " '2.0',\n",
       " '2.0',\n",
       " '3.0',\n",
       " '3.0',\n",
       " '1.0',\n",
       " '2.0']"
      ]
     },
     "execution_count": 291,
     "metadata": {},
     "output_type": "execute_result"
    }
   ],
   "source": [
    "data=\"\"\"0.0 0.0\n",
    "5.0 5.0\n",
    "0.0 5.0\n",
    "1.0 1.0\n",
    "2.0 2.0\n",
    "3.0 3.0\n",
    "1.0 2.0\"\"\".split()\n",
    "data"
   ]
  },
  {
   "cell_type": "code",
   "execution_count": 4,
   "metadata": {
    "collapsed": true,
    "deletable": true,
    "editable": true
   },
   "outputs": [],
   "source": []
  },
  {
   "cell_type": "code",
   "execution_count": 293,
   "metadata": {
    "collapsed": false,
    "deletable": true,
    "editable": true
   },
   "outputs": [
    {
     "data": {
      "text/plain": [
       "[(0.0, 0.0),\n",
       " (5.0, 5.0),\n",
       " (0.0, 5.0),\n",
       " (1.0, 1.0),\n",
       " (2.0, 2.0),\n",
       " (3.0, 3.0),\n",
       " (1.0, 2.0)]"
      ]
     },
     "execution_count": 293,
     "metadata": {},
     "output_type": "execute_result"
    }
   ],
   "source": [
    "\n",
    "#x=[float(i) for i in data[::2]]\n",
    "#y=[float(i) for i in data[1::2]]\n",
    "xy=[(float(a),float(b)) for a,b in zip(data[::2],data[1::2]) ]\n",
    "xy"
   ]
  },
  {
   "cell_type": "code",
   "execution_count": 295,
   "metadata": {
    "collapsed": false,
    "deletable": true,
    "editable": true
   },
   "outputs": [
    {
     "data": {
      "text/plain": [
       "5.0"
      ]
     },
     "execution_count": 295,
     "metadata": {},
     "output_type": "execute_result"
    }
   ],
   "source": [
    "EuclideanDistance((0,0),(5,0))"
   ]
  },
  {
   "cell_type": "code",
   "execution_count": 19,
   "metadata": {
    "collapsed": false,
    "deletable": true,
    "editable": true
   },
   "outputs": [
    {
     "data": {
      "text/plain": [
       "[(16.6, 9.6), (43.9, 12.8), (0.1, 31.5), (27.1, 29.3), (0.1, 0.4)]"
      ]
     },
     "execution_count": 19,
     "metadata": {},
     "output_type": "execute_result"
    }
   ],
   "source": [
    "#xy=[(float(a),float(b)) for a,b in zip(data[::2],data[1::2]) ]\n",
    "#xy=[(float(a),float(b),float(c)) for a,b,c in zip(data[::3],data[1::3],data[2::3]) ]\n",
    "def EuclideanDistance(p1,p2):\n",
    "    d1,d2=len(p1),len(p2)\n",
    "    if d1!=d2:\n",
    "        print(\"Dimensions do not match!\")\n",
    "        return\n",
    "    dif2 = 0\n",
    "    for i in range(d1):        \n",
    "        dif2 += (p1[i]-p2[i])**2\n",
    "    #print dif2\n",
    "    return math.sqrt(dif2)\n",
    "\n",
    "def FarthestFirstTraversal(points, k):\n",
    "    centers=[]\n",
    "    new_center=rnd.choice(list((set(points).difference(centers))))\n",
    "    #new_center=(0.8, 12.0, 17.5, 0.9, 7.2)\n",
    "    centers.append(new_center)\n",
    "#     rndPnt=points[rnd.randint(0,len(points)-1)]\n",
    "#     if rndPnt not in centers:\n",
    "#         centers.append(rndPnt)\n",
    "        #del points[(points.index(rndPnt))]\n",
    "    while(len(centers)<k):\n",
    "        maxDist=0 \n",
    "        for point in list((set(points).difference(centers))):\n",
    "            cent_min_dist=np.inf\n",
    "            for center in centers:\n",
    "                dist=EuclideanDistance(center,point)\n",
    "                if dist < cent_min_dist:\n",
    "                    cent_min_dist=dist\n",
    "                \n",
    "                #print dist, point, center\n",
    "            if ((cent_min_dist > maxDist)):\n",
    "                maxDist=cent_min_dist\n",
    "\n",
    "                new_center=point\n",
    "                    #print new_center\n",
    "        \n",
    "        if maxDist:\n",
    "            #new_center=rnd.choice(list((set(points).difference(centers))))\n",
    "            centers.append(new_center)\n",
    "        else:\n",
    "            new_center=rnd.choice(list((set(points).difference(centers))))\n",
    "            print \"!!!Random center created: \", new_center\n",
    "        #print centers\n",
    "                #else:\n",
    "                    #print \"zero length\"\n",
    "                    #print center, point, dist, maxDist\n",
    "        #if new_center not in centers:\n",
    "\n",
    "            \n",
    "    return centers\n",
    "FarthestFirstTraversal(xy,k)  "
   ]
  },
  {
   "cell_type": "code",
   "execution_count": 325,
   "metadata": {
    "collapsed": false,
    "deletable": true,
    "editable": true
   },
   "outputs": [
    {
     "data": {
      "text/plain": [
       "(0, 0)"
      ]
     },
     "execution_count": 325,
     "metadata": {},
     "output_type": "execute_result"
    }
   ],
   "source": [
    "b1 = [(1,2), (0,0)]\n",
    "b2 = []\n",
    "rnd.choice(list((set(b1).difference(b2))))"
   ]
  },
  {
   "cell_type": "code",
   "execution_count": 344,
   "metadata": {
    "collapsed": false,
    "deletable": true,
    "editable": true
   },
   "outputs": [
    {
     "data": {
      "text/plain": [
       "32.60720779214313"
      ]
     },
     "execution_count": 344,
     "metadata": {},
     "output_type": "execute_result"
    }
   ],
   "source": [
    "EuclideanDistance((0.8, 12.0, 17.5, 0.9, 7.2),(31.1, 2.1, 12.5, 1.1, 2.5))"
   ]
  },
  {
   "cell_type": "code",
   "execution_count": 345,
   "metadata": {
    "collapsed": false,
    "deletable": true,
    "editable": true
   },
   "outputs": [
    {
     "data": {
      "text/plain": [
       "52.6948764112793"
      ]
     },
     "execution_count": 345,
     "metadata": {},
     "output_type": "execute_result"
    }
   ],
   "source": [
    "EuclideanDistance((0.3, 16.4, 8.9, 34.6, 24.6),(31.1, 2.1, 12.5, 1.1, 2.5))"
   ]
  },
  {
   "cell_type": "code",
   "execution_count": 346,
   "metadata": {
    "collapsed": false,
    "deletable": true,
    "editable": true
   },
   "outputs": [
    {
     "data": {
      "text/plain": [
       "38.531415753901385"
      ]
     },
     "execution_count": 346,
     "metadata": {},
     "output_type": "execute_result"
    }
   ],
   "source": [
    "EuclideanDistance((0.8, 12.0, 17.5, 0.9, 7.2),(32.3, 1.9, 5.1, 16.2, 8.8))\n",
    "\n"
   ]
  },
  {
   "cell_type": "code",
   "execution_count": 347,
   "metadata": {
    "collapsed": false,
    "deletable": true,
    "editable": true
   },
   "outputs": [
    {
     "data": {
      "text/plain": [
       "42.85895472360473"
      ]
     },
     "execution_count": 347,
     "metadata": {},
     "output_type": "execute_result"
    }
   ],
   "source": [
    "EuclideanDistance((0.3, 16.4, 8.9, 34.6, 24.6),(32.3, 1.9, 5.1, 16.2, 8.8))"
   ]
  },
  {
   "cell_type": "code",
   "execution_count": null,
   "metadata": {
    "collapsed": true,
    "deletable": true,
    "editable": true
   },
   "outputs": [],
   "source": []
  }
 ],
 "metadata": {
  "kernelspec": {
   "display_name": "Python 2",
   "language": "python",
   "name": "python2"
  },
  "language_info": {
   "codemirror_mode": {
    "name": "ipython",
    "version": 2
   },
   "file_extension": ".py",
   "mimetype": "text/x-python",
   "name": "python",
   "nbconvert_exporter": "python",
   "pygments_lexer": "ipython2",
   "version": "2.7.11"
  }
 },
 "nbformat": 4,
 "nbformat_minor": 0
}
