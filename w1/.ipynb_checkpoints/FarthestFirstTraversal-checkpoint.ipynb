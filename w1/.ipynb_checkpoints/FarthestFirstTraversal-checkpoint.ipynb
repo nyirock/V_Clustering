{
 "cells": [
  {
   "cell_type": "markdown",
   "metadata": {},
   "source": [
    "<FarthestFirstTraversal(Data, k) \n",
    "    Centers ← the set consisting of a single randomly chosen point from Data\n",
    "    while |Centers| < k \n",
    "        DataPoint ← the point in Data maximizing d(DataPoint, Centers) \n",
    "        add DataPoint to Centers \n",
    "    return Centers>"
   ]
  },
  {
   "cell_type": "markdown",
   "metadata": {},
   "source": [
    "# Week 1 Clustering"
   ]
  },
  {
   "cell_type": "markdown",
   "metadata": {},
   "source": [
    "## Farthest First Traversal"
   ]
  },
  {
   "cell_type": "markdown",
   "metadata": {},
   "source": [
    "Although the k-Center Clustering Problem is easy to state, it is NP-Hard. The Farthest First Traversal heuristic, whose pseudocode is shown below, selects centers from the points in Data (instead of from all possible points in m-dimensional space). It begins by selecting an arbitrary point in Data as the first center and iteratively adds a new center as the point in Data that is farthest from the centers chosen so far, with ties broken arbitrarily (see figure below)."
   ]
  },
  {
   "cell_type": "code",
   "execution_count": 1,
   "metadata": {
    "collapsed": false
   },
   "outputs": [
    {
     "ename": "IndentationError",
     "evalue": "unexpected indent (<ipython-input-1-5c426a0af0be>, line 2)",
     "output_type": "error",
     "traceback": [
      "\u001b[1;36m  File \u001b[1;32m\"<ipython-input-1-5c426a0af0be>\"\u001b[1;36m, line \u001b[1;32m2\u001b[0m\n\u001b[1;33m    Centers ← the set consisting of a single randomly chosen point from Data\u001b[0m\n\u001b[1;37m    ^\u001b[0m\n\u001b[1;31mIndentationError\u001b[0m\u001b[1;31m:\u001b[0m unexpected indent\n"
     ]
    }
   ],
   "source": [
    "FarthestFirstTraversal(Data, k) \n",
    "    Centers ← the set consisting of a single randomly chosen point from Data\n",
    "    while |Centers| < k \n",
    "        DataPoint ← the point in Data maximizing d(DataPoint, Centers) \n",
    "        add DataPoint to Centers \n",
    "    return Centers "
   ]
  },
  {
   "cell_type": "code",
   "execution_count": 539,
   "metadata": {
    "collapsed": false
   },
   "outputs": [
    {
     "ename": "AttributeError",
     "evalue": "'list' object has no attribute 'split'",
     "output_type": "error",
     "traceback": [
      "\u001b[1;31m---------------------------------------------------------------------------\u001b[0m",
      "\u001b[1;31mAttributeError\u001b[0m                            Traceback (most recent call last)",
      "\u001b[1;32m<ipython-input-539-b1389c53b56b>\u001b[0m in \u001b[0;36m<module>\u001b[1;34m()\u001b[0m\n\u001b[0;32m      1\u001b[0m \u001b[1;33m\u001b[0m\u001b[0m\n\u001b[1;32m----> 2\u001b[1;33m \u001b[0mdata\u001b[0m\u001b[1;33m.\u001b[0m\u001b[0msplit\u001b[0m\u001b[1;33m(\u001b[0m\u001b[1;33m)\u001b[0m\u001b[1;33m\u001b[0m\u001b[0m\n\u001b[0m",
      "\u001b[1;31mAttributeError\u001b[0m: 'list' object has no attribute 'split'"
     ]
    }
   ],
   "source": []
  },
  {
   "cell_type": "code",
   "execution_count": 573,
   "metadata": {
    "collapsed": false
   },
   "outputs": [
    {
     "data": {
      "text/plain": [
       "[[0.0], [1.0], [1.9], [3.0]]"
      ]
     },
     "execution_count": 573,
     "metadata": {},
     "output_type": "execute_result"
    }
   ],
   "source": [
    "#manual data read\n",
    "#trick k-Means\n",
    "data=\"\"\"0\n",
    "1\n",
    "1.9\n",
    "3\"\"\".split()\n",
    "#x=[float(i) for i in data[::2]]\n",
    "#y=[float(i) for i in data[1::2]]\n",
    "xy=[(float(a),float(b)) for a,b in zip(data[::2],data[1::2]) ]\n",
    "xy=[[float(a)] for a in data]\n",
    "centers=[[1.0], [3.0]]\n",
    "k=2\n",
    "d=1\n",
    "xy"
   ]
  },
  {
   "cell_type": "code",
   "execution_count": 11,
   "metadata": {
    "collapsed": false
   },
   "outputs": [],
   "source": [
    "import random as rnd\n",
    "import math\n",
    "import numpy as np"
   ]
  },
  {
   "cell_type": "code",
   "execution_count": 498,
   "metadata": {
    "collapsed": false
   },
   "outputs": [
    {
     "name": "stdout",
     "output_type": "stream",
     "text": [
      "number of centers:  7\n",
      "dimensions:  5\n"
     ]
    }
   ],
   "source": [
    "#reads with no centers\n",
    "import random as rnd\n",
    "import math\n",
    "import numpy as np\n",
    "xy=[]\n",
    "with open('dataset_10928_3.txt', 'r') as myfile:\n",
    "    #first_line = myfile.readline()#skipping header\n",
    "    first_line=myfile.readline()\n",
    "    k,d=int(first_line.split()[0]),int(first_line.split()[1])\n",
    "    print 'number of centers: ',k\n",
    "    print 'dimensions: ',d\n",
    "    #next(myfile)#skipping separator\n",
    "    for line in myfile:\n",
    "        \n",
    "        #print line\n",
    "        xy.append(tuple(float(i) for i in line.split()))\n",
    "        \n",
    "#xy=[(float(a),float(b),float(c),float(d),float(e)) for a,b,c,d,e in zip(data[::5],data[1::5],data[2::5],data[3::5],data[4::5]) ]\n",
    "\n",
    "\n",
    "#print 'number of centers: ',k\n",
    "#print 'dimensions: ',d\n",
    "#xy=[(float(a),float(b)) for a,b in zip(data[::2],data[1::2]) ]\n",
    "\n"
   ]
  },
  {
   "cell_type": "code",
   "execution_count": 530,
   "metadata": {
    "collapsed": false
   },
   "outputs": [
    {
     "data": {
      "text/plain": [
       "[0.0, 1.0, 1.9, 3.0]"
      ]
     },
     "execution_count": 530,
     "metadata": {},
     "output_type": "execute_result"
    }
   ],
   "source": [
    "xy"
   ]
  },
  {
   "cell_type": "code",
   "execution_count": 1,
   "metadata": {
    "collapsed": false
   },
   "outputs": [],
   "source": [
    "#xy=[(float(a),float(b)) for a,b in zip(data[::2],data[1::2]) ]\n",
    "#xy=[(float(a),float(b),float(c)) for a,b,c in zip(data[::3],data[1::3],data[2::3]) ]\n",
    "def EuclideanDistance(p1,p2):\n",
    "    d1,d2=len(p1),len(p2)\n",
    "    if d1!=d2:\n",
    "        print(\"Dimensions do not match!\")\n",
    "        return\n",
    "    dif2 = 0\n",
    "    for i in range(d1):        \n",
    "        dif2 += (p1[i]-p2[i])**2\n",
    "    #print dif2\n",
    "    return math.sqrt(dif2)\n",
    "\n",
    "def FarthestFirstTraversal(points, k):\n",
    "    centers=[]\n",
    "    new_center=points[0]\n",
    "    #new_center=rnd.choice(list((set(points).difference(centers))))\n",
    "    #new_center=(0.8, 12.0, 17.5, 0.9, 7.2)\n",
    "    centers.append(new_center)\n",
    "#     rndPnt=points[rnd.randint(0,len(points)-1)]\n",
    "#     if rndPnt not in centers:\n",
    "#         centers.append(rndPnt)\n",
    "        #del points[(points.index(rndPnt))]\n",
    "    while(len(centers)<k):\n",
    "        maxDist=0 \n",
    "        for point in list((set(points).difference(centers))):\n",
    "            cent_min_dist=np.inf\n",
    "            for center in centers:\n",
    "                dist=EuclideanDistance(center,point)\n",
    "                if dist < cent_min_dist:\n",
    "                    cent_min_dist=dist\n",
    "                \n",
    "                #print dist, point, center\n",
    "            if ((cent_min_dist > maxDist)):\n",
    "                maxDist=cent_min_dist\n",
    "\n",
    "                new_center=point\n",
    "                    #print new_center\n",
    "        \n",
    "        if maxDist:\n",
    "            #new_center=rnd.choice(list((set(points).difference(centers))))\n",
    "            centers.append(new_center)\n",
    "        else:\n",
    "            new_center=rnd.choice(list((set(points).difference(centers))))\n",
    "            print \"!!!Random center created: \", new_center\n",
    "        #print centers\n",
    "                #else:\n",
    "                    #print \"zero length\"\n",
    "                    #print center, point, dist, maxDist\n",
    "        #if new_center not in centers:\n",
    "\n",
    "            \n",
    "    return centers\n",
    "#FarthestFirstTraversal(xy,k)  "
   ]
  },
  {
   "cell_type": "markdown",
   "metadata": {},
   "source": [
    "## Distortion Error"
   ]
  },
  {
   "cell_type": "code",
   "execution_count": 492,
   "metadata": {
    "collapsed": false
   },
   "outputs": [
    {
     "name": "stdout",
     "output_type": "stream",
     "text": [
      "4.0 5.5 5.3 5.7 8.3\n",
      "\n",
      "3.9 9.5 3.4 6.4 8.9\n",
      "\n",
      "9.5 8.7 1.1 0.9 7.6\n",
      "\n",
      "6.5 5.2 3.5 1.5 0.2\n",
      "\n",
      "6.4 0.4 9.6 3.3 4.4\n",
      "\n"
     ]
    },
    {
     "ename": "ValueError",
     "evalue": "could not convert string to float: Output",
     "output_type": "error",
     "traceback": [
      "\u001b[1;31m---------------------------------------------------------------------------\u001b[0m",
      "\u001b[1;31mValueError\u001b[0m                                Traceback (most recent call last)",
      "\u001b[1;32m<ipython-input-492-3109ccecc0fd>\u001b[0m in \u001b[0;36m<module>\u001b[1;34m()\u001b[0m\n\u001b[0;32m     20\u001b[0m             \u001b[1;32mcontinue\u001b[0m\u001b[1;33m\u001b[0m\u001b[0m\n\u001b[0;32m     21\u001b[0m         \u001b[1;32melse\u001b[0m\u001b[1;33m:\u001b[0m\u001b[1;33m\u001b[0m\u001b[0m\n\u001b[1;32m---> 22\u001b[1;33m             \u001b[0mxy\u001b[0m\u001b[1;33m.\u001b[0m\u001b[0mappend\u001b[0m\u001b[1;33m(\u001b[0m\u001b[0mtuple\u001b[0m\u001b[1;33m(\u001b[0m\u001b[0mfloat\u001b[0m\u001b[1;33m(\u001b[0m\u001b[0mi\u001b[0m\u001b[1;33m)\u001b[0m \u001b[1;32mfor\u001b[0m \u001b[0mi\u001b[0m \u001b[1;32min\u001b[0m \u001b[0mline\u001b[0m\u001b[1;33m.\u001b[0m\u001b[0msplit\u001b[0m\u001b[1;33m(\u001b[0m\u001b[1;33m)\u001b[0m\u001b[1;33m)\u001b[0m\u001b[1;33m)\u001b[0m\u001b[1;33m\u001b[0m\u001b[0m\n\u001b[0m\u001b[0;32m     23\u001b[0m \u001b[1;33m\u001b[0m\u001b[0m\n\u001b[0;32m     24\u001b[0m \u001b[1;33m\u001b[0m\u001b[0m\n",
      "\u001b[1;32m<ipython-input-492-3109ccecc0fd>\u001b[0m in \u001b[0;36m<genexpr>\u001b[1;34m((i,))\u001b[0m\n\u001b[0;32m     20\u001b[0m             \u001b[1;32mcontinue\u001b[0m\u001b[1;33m\u001b[0m\u001b[0m\n\u001b[0;32m     21\u001b[0m         \u001b[1;32melse\u001b[0m\u001b[1;33m:\u001b[0m\u001b[1;33m\u001b[0m\u001b[0m\n\u001b[1;32m---> 22\u001b[1;33m             \u001b[0mxy\u001b[0m\u001b[1;33m.\u001b[0m\u001b[0mappend\u001b[0m\u001b[1;33m(\u001b[0m\u001b[0mtuple\u001b[0m\u001b[1;33m(\u001b[0m\u001b[0mfloat\u001b[0m\u001b[1;33m(\u001b[0m\u001b[0mi\u001b[0m\u001b[1;33m)\u001b[0m \u001b[1;32mfor\u001b[0m \u001b[0mi\u001b[0m \u001b[1;32min\u001b[0m \u001b[0mline\u001b[0m\u001b[1;33m.\u001b[0m\u001b[0msplit\u001b[0m\u001b[1;33m(\u001b[0m\u001b[1;33m)\u001b[0m\u001b[1;33m)\u001b[0m\u001b[1;33m)\u001b[0m\u001b[1;33m\u001b[0m\u001b[0m\n\u001b[0m\u001b[0;32m     23\u001b[0m \u001b[1;33m\u001b[0m\u001b[0m\n\u001b[0;32m     24\u001b[0m \u001b[1;33m\u001b[0m\u001b[0m\n",
      "\u001b[1;31mValueError\u001b[0m: could not convert string to float: Output"
     ]
    }
   ],
   "source": [
    "import random as rnd\n",
    "import math\n",
    "import numpy as np\n",
    "xy=[]\n",
    "centers=[]\n",
    "with open('SquaredErrorDistortion.txt', 'r') as myfile:\n",
    "    first_line = myfile.readline()#skipp the initial input title\n",
    "    first_line = myfile.readline() #reading the info line\n",
    "    k,d=int(first_line.split()[0]),int(first_line.split()[1])\n",
    "    #reading centers\n",
    "    cnt=0\n",
    "    for line in myfile:\n",
    "        #print line\n",
    "        cnt+=1\n",
    "        #print cnt\n",
    "        if cnt <= k:\n",
    "            print line\n",
    "            centers.append(tuple(float(i) for i in line.split()))\n",
    "        elif cnt==k+1:\n",
    "            continue\n",
    "        else:\n",
    "            xy.append(tuple(float(i) for i in line.split()))\n",
    "            \n",
    "       \n",
    "#     for line in myfile:\n",
    "#         #print line\n",
    "#         xy.append(tuple(float(i) for i in line.split()))\n",
    "        \n",
    "#xy=[(float(a),float(b),float(c),float(d),float(e)) for a,b,c,d,e in zip(data[::5],data[1::5],data[2::5],data[3::5],data[4::5]) ]\n",
    "\n",
    "\n",
    "print 'number of centers: ',k\n",
    "print 'dimensions: ',d"
   ]
  },
  {
   "cell_type": "code",
   "execution_count": 488,
   "metadata": {
    "collapsed": false
   },
   "outputs": [
    {
     "data": {
      "text/plain": [
       "(36.76283433133732,\n",
       " {0: 37.482204545454536,\n",
       "  1: 31.251403508771926,\n",
       "  2: 27.355199999999996,\n",
       "  3: 40.495665399239556,\n",
       "  4: 35.28451851851851})"
      ]
     },
     "execution_count": 488,
     "metadata": {},
     "output_type": "execute_result"
    }
   ],
   "source": [
    "clusters=FormClusters(xy, centers,k)\n",
    "Distortion(clusters, centers)"
   ]
  },
  {
   "cell_type": "code",
   "execution_count": 381,
   "metadata": {
    "collapsed": false
   },
   "outputs": [
    {
     "data": {
      "text/plain": [
       "[(18.7, 5.8, 10.7, 15.3, 3.3),\n",
       " (1.8, 7.2, 5.6, 4.8, 14.0),\n",
       " (2.8, 3.8, 6.0, 0.3, 2.9),\n",
       " (5.4, 15.7, 12.6, 9.1, 4.9),\n",
       " (4.5, 1.9, 8.4, 1.2, 0.1)]"
      ]
     },
     "execution_count": 381,
     "metadata": {},
     "output_type": "execute_result"
    }
   ],
   "source": [
    "xy[-5:]"
   ]
  },
  {
   "cell_type": "code",
   "execution_count": 38,
   "metadata": {
    "collapsed": false
   },
   "outputs": [],
   "source": [
    "from collections import defaultdict\n",
    "\n",
    "def EuclideanDistance(p1,p2):\n",
    "    d1,d2=len(p1),len(p2)\n",
    "    if d1!=d2:\n",
    "        print(\"Dimensions do not match!\")\n",
    "        return\n",
    "    dif2 = 0\n",
    "    for i in range(d1):        \n",
    "        dif2 += (p1[i]-p2[i])**2\n",
    "    #print dif2\n",
    "    return math.sqrt(dif2)\n",
    "\n",
    "def SquaredDistance(p1,p2):\n",
    "    d1,d2=len(p1),len(p2)\n",
    "    if d1!=d2:\n",
    "        print(\"Dimensions do not match!\")\n",
    "        return\n",
    "    dif2 = 0\n",
    "    for i in range(d1):        \n",
    "        dif2 += (p1[i]-p2[i])**2\n",
    "    #print dif2\n",
    "    return dif2\n",
    "\n",
    "def FormClusters(points, centers, k):\n",
    "    \n",
    "    \n",
    "    cnt_dct=defaultdict(list)\n",
    "    for point in points:\n",
    "        dist2cent=[]\n",
    "        for center in centers:\n",
    "            #print center, point\n",
    "            dist2cent.append(EuclideanDistance(center,point))\n",
    "            \n",
    "        #print points.index(point)\n",
    "        cnt_dct[dist2cent.index(min(dist2cent))].append(points.index(point))\n",
    "\n",
    "    return cnt_dct\n",
    "#clusters=MaxDistDistortion(xy, centers,k)\n",
    "\n",
    "def MaxDistance(clusters, centers):\n",
    "    dist_dct={}\n",
    "    for i in range(len(clusters)):\n",
    "        cl_points=np.array(xy)[clusters[i]]\n",
    "        maxDist=0\n",
    "        #dist2sum=0\n",
    "        for point in cl_points:\n",
    "            dist=EuclideanDistance(centers[i],point)\n",
    "            if dist>maxDist:\n",
    "                maxDist=dist\n",
    "        dist_dct[i]=maxDist\n",
    "    return dist_dct\n",
    "#dist=MaxDistance(clusters, centers)        \n",
    "#dist\n",
    "\n",
    "def Distortion(clusters, centers, debug=False):\n",
    "    distortion_dct={}\n",
    "    count=0\n",
    "    sum2dict={}\n",
    "    sum2dist=0\n",
    "    numPoints={}\n",
    "    for i in range(len(clusters)):\n",
    "        cl_points=np.array(xy)[clusters[i]]\n",
    "        num_points=len(cl_points)\n",
    "        count+=num_points\n",
    "        \n",
    "        #dist2sum=0\n",
    "        sum2distClust=0\n",
    "        for point in cl_points:\n",
    "            \n",
    "            dist=EuclideanDistance(centers[i],point)\n",
    "            sum2distClust+=dist**2\n",
    "        sum2dict[i]=sum2distClust\n",
    "        sum2dist+=sum2distClust\n",
    "        numPoints[i]=num_points\n",
    "        if debug:\n",
    "            print num_points\n",
    "        if num_points==0:\n",
    "            if debug:\n",
    "                print \"zero number of points\"\n",
    "            distortion_dct[i]=sum2distClust\n",
    "        else:\n",
    "            distortion_dct[i]=sum2distClust/num_points\n",
    "        \n",
    "        #sanity check\n",
    "#         denominator=1\n",
    "#         sum_term=0\n",
    "#         number_product=np.prod(numPoints.values())\n",
    "#         for i in range(len(sum2dict)):\n",
    "#             denominator=denominator*numPoints[i]\n",
    "            \n",
    "#             sum_term+=sum2dict[i]*number_product/numPoints[i]\n",
    "#         print sum_term/number_product\n",
    "    return sum2dist/count,distortion_dct\n",
    "#Distortion(clusters, centers, debug=True)   \n",
    "#distortion\n"
   ]
  },
  {
   "cell_type": "code",
   "execution_count": 120,
   "metadata": {
    "collapsed": false
   },
   "outputs": [
    {
     "data": {
      "text/plain": [
       "4.0"
      ]
     },
     "execution_count": 120,
     "metadata": {},
     "output_type": "execute_result"
    }
   ],
   "source": [
    "\n",
    "dist=0\n",
    "ctrs=[(4, 5), (7, 4)]\n",
    "cl_points=[(2, 6), (4, 9), (5, 7), (6, 5), (8, 3)]\n",
    "maxDist=0\n",
    "#dist2sum=0\n",
    "for point in cl_points:\n",
    "    \n",
    "    dist=min([EuclideanDistance(i,point) for i in ctrs])\n",
    "    if dist>maxDist:\n",
    "        maxDist=dist\n",
    "maxDist"
   ]
  },
  {
   "cell_type": "code",
   "execution_count": 135,
   "metadata": {
    "collapsed": false
   },
   "outputs": [
    {
     "name": "stdout",
     "output_type": "stream",
     "text": [
      "(9.0, {0: 12.0, 1: 4.5})\n"
     ]
    }
   ],
   "source": [
    "\n",
    "ctrs=[ (3, 5), (5, 4)]\n",
    "xy=[(2, 8), (2, 5), (6, 9), (7, 5), (5, 2)]\n",
    "clusters=FormClusters(xy,ctrs,2)\n",
    "print Distortion(clusters, ctrs)\n"
   ]
  },
  {
   "cell_type": "code",
   "execution_count": 136,
   "metadata": {
    "collapsed": false
   },
   "outputs": [
    {
     "data": {
      "text/plain": [
       "2"
      ]
     },
     "execution_count": 136,
     "metadata": {},
     "output_type": "execute_result"
    }
   ],
   "source": [
    "len(list(clusters))"
   ]
  },
  {
   "cell_type": "code",
   "execution_count": 141,
   "metadata": {
    "collapsed": false
   },
   "outputs": [
    {
     "data": {
      "text/plain": [
       "[(9, 6, 10)]"
      ]
     },
     "execution_count": 141,
     "metadata": {},
     "output_type": "execute_result"
    }
   ],
   "source": [
    "xy=[(17, 0, -4), (3, 14, 23), (9, 7, 16), (7, 3, 5)]\n",
    "clusters=FormClusters(xy,[rnd.choice(xy)],1)\n",
    "#clusters\n",
    "GravityCenters(clusters,dimensions=3)"
   ]
  },
  {
   "cell_type": "code",
   "execution_count": null,
   "metadata": {
    "collapsed": true
   },
   "outputs": [],
   "source": []
  },
  {
   "cell_type": "code",
   "execution_count": 118,
   "metadata": {
    "collapsed": false
   },
   "outputs": [
    {
     "ename": "NameError",
     "evalue": "name 'clusters' is not defined",
     "output_type": "error",
     "traceback": [
      "\u001b[1;31m---------------------------------------------------------------------------\u001b[0m",
      "\u001b[1;31mNameError\u001b[0m                                 Traceback (most recent call last)",
      "\u001b[1;32m<ipython-input-118-38e1bbdc75b4>\u001b[0m in \u001b[0;36m<module>\u001b[1;34m()\u001b[0m\n\u001b[1;32m----> 1\u001b[1;33m \u001b[0mclusters\u001b[0m\u001b[1;33m\u001b[0m\u001b[0m\n\u001b[0m",
      "\u001b[1;31mNameError\u001b[0m: name 'clusters' is not defined"
     ]
    }
   ],
   "source": [
    "clusters"
   ]
  },
  {
   "cell_type": "code",
   "execution_count": 519,
   "metadata": {
    "collapsed": false
   },
   "outputs": [
    {
     "name": "stdout",
     "output_type": "stream",
     "text": [
      "317\n",
      "178\n",
      "138\n",
      "134\n",
      "86\n",
      "145\n",
      "152\n",
      "{0: 317, 1: 178, 2: 138, 3: 134, 4: 86, 5: 145, 6: 152}\n"
     ]
    },
    {
     "data": {
      "text/plain": [
       "(89.75306865644178,\n",
       " {0: 55.41681457671987,\n",
       "  1: 102.58347588688304,\n",
       "  2: 109.28994381432466,\n",
       "  3: 84.42816495878813,\n",
       "  4: 97.02390751757706,\n",
       "  5: 108.81838382877528,\n",
       "  6: 110.99297351108032})"
      ]
     },
     "execution_count": 519,
     "metadata": {},
     "output_type": "execute_result"
    }
   ],
   "source": [
    "def Distortion2(clusters, centers, debug=False):\n",
    "    distortion_dct={}\n",
    "    count=0\n",
    "    sum2dict={}\n",
    "    sum2dist=0\n",
    "    numPoints={}\n",
    "    for i in range(len(clusters)):\n",
    "        cl_points=np.array(xy)[clusters[i]]\n",
    "        num_points=len(cl_points)\n",
    "        count+=num_points\n",
    "        \n",
    "        #dist2sum=0\n",
    "        sum2distClust=0\n",
    "        for point in cl_points:\n",
    "            \n",
    "            dist=EuclideanDistance(centers[i],point)\n",
    "            sum2distClust+=dist**2\n",
    "        sum2dict[i]=sum2distClust\n",
    "        sum2dist+=sum2distClust\n",
    "        numPoints[i]=num_points\n",
    "        if debug:\n",
    "            print num_points\n",
    "        if num_points==0:\n",
    "            if debug:\n",
    "                print \"zero number of points\"\n",
    "            distortion_dct[i]=sum2distClust\n",
    "        else:\n",
    "            distortion_dct[i]=sum2distClust/num_points\n",
    "        \n",
    "        #sanity check\n",
    "#         denominator=1\n",
    "#         sum_term=0\n",
    "#         number_product=np.prod(numPoints.values())\n",
    "#         for i in range(len(sum2dict)):\n",
    "#             denominator=denominator*numPoints[i]\n",
    "            \n",
    "#             sum_term+=sum2dict[i]*number_product/numPoints[i]\n",
    "    #print numPoints\n",
    "    return sum(sum2dict.values())/sum(numPoints.values()),distortion_dct\n",
    "Distortion2(clusters, centers, debug=True)  "
   ]
  },
  {
   "cell_type": "code",
   "execution_count": null,
   "metadata": {
    "collapsed": true
   },
   "outputs": [],
   "source": []
  },
  {
   "cell_type": "code",
   "execution_count": 465,
   "metadata": {
    "collapsed": false
   },
   "outputs": [
    {
     "data": {
      "text/plain": [
       "[(5.8, 18.3, 27.0, 16.5, 9.3),\n",
       " (0.1, 15.3, 9.7, 1.8, 5.3),\n",
       " (6.4, 13.6, 2.6, 7.3, 2.8),\n",
       " (22.1, 4.8, 0.0, 17.7, 8.1),\n",
       " (5.8, 18.3, 27.0, 16.5, 9.3),\n",
       " (1.3, 1.2, 16.9, 10.8, 14.4),\n",
       " (18.1, 7.6, 14.5, 7.3, 2.1)]"
      ]
     },
     "execution_count": 465,
     "metadata": {},
     "output_type": "execute_result"
    }
   ],
   "source": [
    "centers"
   ]
  },
  {
   "cell_type": "code",
   "execution_count": null,
   "metadata": {
    "collapsed": true
   },
   "outputs": [],
   "source": []
  },
  {
   "cell_type": "code",
   "execution_count": 447,
   "metadata": {
    "collapsed": false
   },
   "outputs": [
    {
     "data": {
      "text/plain": [
       "60"
      ]
     },
     "execution_count": 447,
     "metadata": {},
     "output_type": "execute_result"
    }
   ],
   "source": [
    "l=[3,4,5]\n",
    "np.prod(l)\n",
    "#clusters"
   ]
  },
  {
   "cell_type": "code",
   "execution_count": 4,
   "metadata": {
    "collapsed": false
   },
   "outputs": [],
   "source": [
    "d=3"
   ]
  },
  {
   "cell_type": "markdown",
   "metadata": {},
   "source": [
    "## K-Means Lloyd algorithm "
   ]
  },
  {
   "cell_type": "code",
   "execution_count": 5,
   "metadata": {
    "collapsed": false
   },
   "outputs": [],
   "source": [
    "def GravityCenters(clusters, dimensions=d):\n",
    "    centers=[]\n",
    "    \n",
    "    for i in range(len(clusters)):\n",
    "        cl_points=np.array(xy)[clusters[i]]\n",
    "        cl_size=len(cl_points)\n",
    "        if dimensions==1:\n",
    "            centers.append([(np.sum(cl_points))/cl_size])\n",
    "        else:\n",
    "            centers.append(tuple((np.sum(cl_points[:,[i]]))/cl_size for i in range(dimensions)))\n",
    "    return centers\n",
    "\n",
    "#GravityCenters(clusters)\n",
    "\n",
    "def RandomCenters(points, k):\n",
    "    centers=[]\n",
    "    for i in range(k):\n",
    "        centers.append(rnd.choice(points))\n",
    "    return centers"
   ]
  },
  {
   "cell_type": "code",
   "execution_count": 6,
   "metadata": {
    "collapsed": false
   },
   "outputs": [
    {
     "data": {
      "text/plain": [
       "3"
      ]
     },
     "execution_count": 6,
     "metadata": {},
     "output_type": "execute_result"
    }
   ],
   "source": [
    "d"
   ]
  },
  {
   "cell_type": "code",
   "execution_count": 567,
   "metadata": {
    "collapsed": false
   },
   "outputs": [
    {
     "data": {
      "text/plain": [
       "[[0.0], [3.0]]"
      ]
     },
     "execution_count": 567,
     "metadata": {},
     "output_type": "execute_result"
    }
   ],
   "source": [
    "centers"
   ]
  },
  {
   "cell_type": "code",
   "execution_count": 562,
   "metadata": {
    "collapsed": false
   },
   "outputs": [
    {
     "name": "stdout",
     "output_type": "stream",
     "text": [
      "Random centers: [[0.0], [3.0]]\n",
      "maxDistances:  {0: 1.0, 1: 1.0}\n",
      "distortion:  0.5\n",
      "distortion clusters:  {0: 0.5, 1: 0.5}\n",
      "####### ENTERING K-MEANS ALGORITHM #######\n",
      "======================================\n",
      "K-Means Lloyd algorithm has converged!\n",
      "maxIterations 2\n",
      "maxDistances:  {0: 0.5, 1: 0.5}\n",
      "distortion:  0.25\n",
      "maxDifference:  0.0\n",
      "distortionDifference:  0.0\n",
      "distortion clusters:  {0: 0.25, 1: 0.25}\n",
      "0.500 \n",
      "2.500 \n"
     ]
    }
   ],
   "source": [
    "iterations=1000\n",
    "presision=1e-5\n",
    "\n",
    "#centers=RandomCenters(xy,k)\n",
    "\n",
    "clusters=FormClusters(xy, centers,k)\n",
    "maxDistances=MaxDistance(clusters, centers)\n",
    "distortion,distortion_clusters=Distortion(clusters,centers)\n",
    "\n",
    "print 'Random centers:', centers\n",
    "print 'maxDistances: ', maxDistances\n",
    "print 'distortion: ', distortion\n",
    "print 'distortion clusters: ', distortion_clusters\n",
    "\n",
    "i=0\n",
    "print \"####### ENTERING K-MEANS ALGORITHM #######\"\n",
    "while(True):\n",
    "\n",
    "    new_centers=GravityCenters(clusters,d)\n",
    "    new_clusters=FormClusters(xy,new_centers,k)\n",
    "    i+=1\n",
    "    maxDiff =max([EuclideanDistance(centers[j], new_centers[j]) for j in range(len(new_centers))])\n",
    "    maxDistances=MaxDistance(new_clusters, new_centers)\n",
    "    newDistortion,newDistortion_clusters=Distortion(new_clusters,new_centers)\n",
    "    distortionDifference=distortion-newDistortion\n",
    "    \n",
    "    #print \"===  iteration: \",i,\" ===\"\n",
    "    #print 'centers:', [tuple( '%.2f' % elem for elem in tup ) for tup in new_centers]\n",
    "    #[[np.round(float(i), 2) for i in nested] for nested in outerlist]\n",
    "#     print 'maxDistances: ', maxDistances\n",
    "#     print 'distortion: ', distortion\n",
    "#     print 'maxDifference: ', maxDiff\n",
    "#     print \"distortionDifference: \", distortionDifference\n",
    "        \n",
    "    if(i>1000):\n",
    "        print \"===============================\"\n",
    "        print \"Maximum iterations was reached!\"\n",
    "        break\n",
    "    if(maxDiff<presision):\n",
    "        print \"======================================\"\n",
    "        print \"K-Means Lloyd algorithm has converged!\"\n",
    "        break\n",
    "    centers=new_centers\n",
    "    clusters=new_clusters\n",
    "    distortion=newDistortion\n",
    "    distortion_clusters=newDistortion_clusters\n",
    "print \"maxIterations\", i\n",
    "print 'maxDistances: ', maxDistances\n",
    "print 'distortion: ', distortion\n",
    "print 'maxDifference: ', maxDiff\n",
    "print \"distortionDifference: \", distortionDifference\n",
    "print 'distortion clusters: ', distortion_clusters\n",
    "#printing_formatting centers\n",
    "for center in centers:\n",
    "    line=\"\"\n",
    "    for coordinate in center:\n",
    "        line+=str('%.3f' % coordinate)+\" \"\n",
    "    print line\n",
    "    "
   ]
  },
  {
   "cell_type": "code",
   "execution_count": 553,
   "metadata": {
    "collapsed": false
   },
   "outputs": [
    {
     "data": {
      "text/plain": [
       "2"
      ]
     },
     "execution_count": 553,
     "metadata": {},
     "output_type": "execute_result"
    }
   ],
   "source": [
    "k"
   ]
  },
  {
   "cell_type": "code",
   "execution_count": 79,
   "metadata": {
    "collapsed": false
   },
   "outputs": [],
   "source": [
    "def K_Means(points, k, d,startRandomCenters=True, iterations=1000, presision=1e-5, verbose=True, centers=None):\n",
    "    \n",
    "    if startRandomCenters:\n",
    "        centers=RandomCenters(points,k)\n",
    "    else:\n",
    "        #doing the first k points as centers\n",
    "        if centers==None:\n",
    "            centers=points[:k]\n",
    "    clusters=FormClusters(points, centers,k)\n",
    "    maxDistances=MaxDistance(clusters, centers)\n",
    "    distortion,distortion_clusters=Distortion(clusters,centers)\n",
    "    if verbose:\n",
    "        if startRandomCenters:\n",
    "            print 'Random centers: ', centers\n",
    "        elif (startRandomCenters==False and centers):\n",
    "            print 'Initialized centers: ', centers\n",
    "        else:\n",
    "            print 'First points centers: ', centers\n",
    "        print 'maxDistances: ', maxDistances\n",
    "        print 'distortion: ', distortion\n",
    "        print 'distortion clusters: ', distortion_clusters\n",
    "\n",
    "    i=0\n",
    "    if verbose:\n",
    "        print \"####### ENTERING K-MEANS ALGORITHM #######\"\n",
    "    while(True):\n",
    "\n",
    "        new_centers=GravityCenters(clusters,d)\n",
    "        new_clusters=FormClusters(points,new_centers,k)\n",
    "        i+=1\n",
    "        maxDiff =max([EuclideanDistance(centers[j], new_centers[j]) for j in range(len(new_centers))])\n",
    "        maxDistances=MaxDistance(new_clusters, new_centers)\n",
    "        newDistortion,newDistortion_clusters=Distortion(new_clusters,new_centers)\n",
    "        distortionDifference=distortion-newDistortion\n",
    "        if verbose:\n",
    "            print \"===  iteration: \",i,\" ===\"\n",
    "            print 'centers:', [tuple( '%.2f' % elem for elem in tup ) for tup in new_centers]\n",
    "        #[[np.round(float(i), 2) for i in nested] for nested in outerlist]\n",
    "    #     print 'maxDistances: ', maxDistances\n",
    "    #     print 'distortion: ', distortion\n",
    "    #     print 'maxDifference: ', maxDiff\n",
    "    #     print \"distortionDifference: \", distortionDifference\n",
    "\n",
    "        if(i>1000):\n",
    "            if verbose:\n",
    "                print \"===============================\"\n",
    "                print \"Maximum iterations was reached!\"\n",
    "            break\n",
    "        if(maxDiff<presision):\n",
    "            if verbose:\n",
    "                print \"======================================\"\n",
    "                print \"K-Means Lloyd algorithm has converged!\"\n",
    "            break\n",
    "        centers=new_centers\n",
    "        clusters=new_clusters\n",
    "        distortion=newDistortion\n",
    "    if verbose:\n",
    "        print \"maxIterations\", i\n",
    "        print 'maxDistances: ', maxDistances\n",
    "        print 'distortion: ', distortion\n",
    "        print 'maxDifference: ', maxDiff\n",
    "        print \"distortionDifference: \", distortionDifference\n",
    "        print 'distortion clusters: ', distortion_clusters\n",
    "\n",
    "    #printing_formatting centers\n",
    "    if verbose:\n",
    "        for center in centers:\n",
    "            line=\"\"\n",
    "            for coordinate in center:\n",
    "                line+=str('%.3f' % coordinate)+\" \"\n",
    "            print line\n",
    "    return centers,maxDistances,maxDiff,distortionDifference,distortion_clusters,i,distortion"
   ]
  },
  {
   "cell_type": "code",
   "execution_count": 583,
   "metadata": {
    "collapsed": false
   },
   "outputs": [
    {
     "name": "stdout",
     "output_type": "stream",
     "text": [
      "Random centers: [[1.9], [3.0]]\n",
      "maxDistances:  {0: 1.9, 1: 0}\n",
      "distortion:  1.105\n",
      "distortion clusters:  {0: 1.473333333333333, 1: 0.0}\n",
      "####### ENTERING K-MEANS ALGORITHM #######\n",
      "===  iteration:  1  ===\n",
      "centers: [('0.97',), ('3.00',)]\n",
      "===  iteration:  2  ===\n",
      "centers: [('0.97',), ('3.00',)]\n",
      "======================================\n",
      "K-Means Lloyd algorithm has converged!\n",
      "maxIterations 2\n",
      "maxDistances:  {0: 0.9666666666666667, 1: 0}\n",
      "distortion:  0.451666666667\n",
      "maxDifference:  0.0\n",
      "distortionDifference:  0.0\n",
      "distortion clusters:  {0: 1.473333333333333, 1: 0.0}\n",
      "0.967 \n",
      "3.000 \n"
     ]
    },
    {
     "data": {
      "text/plain": [
       "([[0.96666666666666667], [3.0]],\n",
       " {0: 0.9666666666666667, 1: 0},\n",
       " 0.0,\n",
       " 0.0,\n",
       " {0: 1.473333333333333, 1: 0.0},\n",
       " 2,\n",
       " 0.4516666666666666)"
      ]
     },
     "execution_count": 583,
     "metadata": {},
     "output_type": "execute_result"
    }
   ],
   "source": [
    "K_Means(xy, k, d, startRandomCenters=True, verbose=True)"
   ]
  },
  {
   "cell_type": "code",
   "execution_count": 586,
   "metadata": {
    "collapsed": false
   },
   "outputs": [
    {
     "name": "stdout",
     "output_type": "stream",
     "text": [
      "maxIterations 2\n",
      "maxDistances:  {0: 0.5500000000000003, 1: 0.5}\n",
      "distortion:  0.27625\n",
      "maxDifference:  0.0\n",
      "distortionDifference:  0.0\n",
      "distortionClusters:  {0: 0.6050000000000001, 1: 0.5}\n",
      "===== centers =====\n",
      "2.450 \n",
      "0.500 \n",
      "Wall time: 18 ms\n"
     ]
    }
   ],
   "source": [
    "%%time\n",
    "minDist=np.inf\n",
    "for i in range(100):\n",
    "    data=K_Means(xy,k,d, verbose=False, startRandomCenters=True)\n",
    "    if data[-1]<minDist:\n",
    "        minDist=data[-1]\n",
    "        #print data[-1]\n",
    "        bestData=data\n",
    "print \"maxIterations\", bestData[-2]\n",
    "print 'maxDistances: ', bestData[1]\n",
    "print 'distortion: ', bestData[-1]\n",
    "print 'maxDifference: ', bestData[2]\n",
    "print \"distortionDifference: \", bestData[3]\n",
    "print \"distortionClusters: \", bestData[-3]\n",
    "print \"===== centers =====\"\n",
    "for center in bestData[0]:\n",
    "    line=\"\"\n",
    "    for coordinate in center:\n",
    "        line+=str('%.3f' % coordinate)+\" \"\n",
    "    print line"
   ]
  },
  {
   "cell_type": "markdown",
   "metadata": {},
   "source": [
    "### Exercise Break:\n",
    "Pick your favorite parameter k and run the Lloyd algorithm 1,000 times on the 230-gene diauxic shift dataset, each time initialized with a new set of k randomly chosen centers. Construct a histogram of the squared error distortions of the resulting 1,000 outcomes. How many times did you have to run the Lloyd algorithm before finding the run that scored highest among your 1,000 runs?"
   ]
  },
  {
   "cell_type": "code",
   "execution_count": 8,
   "metadata": {
    "collapsed": false
   },
   "outputs": [],
   "source": [
    "#read from csv\n",
    "import csv\n",
    "xy=[]\n",
    "with open('230genes_log_expression.txt', 'rb') as csvfile:\n",
    "    csvreader = csv.reader(csvfile, delimiter='\\t', quotechar='|')\n",
    "    \n",
    "    for row in csvreader:\n",
    "        if csvreader.line_num == 1:\n",
    "            header = row\n",
    "            coord_names=header[-7:]\n",
    "        else:\n",
    "            #print row\n",
    "            xy.append(tuple(float(i) for i in row[-7:]))\n",
    "            #print (tuple(float(i) for i in row[-7:]))\n",
    "d=len(xy[0])\n",
    "k=5"
   ]
  },
  {
   "cell_type": "code",
   "execution_count": 9,
   "metadata": {
    "collapsed": false
   },
   "outputs": [
    {
     "data": {
      "text/plain": [
       "7"
      ]
     },
     "execution_count": 9,
     "metadata": {},
     "output_type": "execute_result"
    }
   ],
   "source": [
    "d"
   ]
  },
  {
   "cell_type": "code",
   "execution_count": 12,
   "metadata": {
    "collapsed": false
   },
   "outputs": [
    {
     "name": "stderr",
     "output_type": "stream",
     "text": [
      "C:\\Users\\Andriy\\AppData\\Local\\Enthought\\Canopy\\User\\lib\\site-packages\\ipykernel\\__main__.py:9: RuntimeWarning: invalid value encountered in double_scalars\n",
      "C:\\Users\\Andriy\\AppData\\Local\\Enthought\\Canopy\\User\\lib\\site-packages\\ipykernel\\__main__.py:10: RuntimeWarning: invalid value encountered in double_scalars\n"
     ]
    },
    {
     "name": "stdout",
     "output_type": "stream",
     "text": [
      "BestIteration:  120\n",
      "maxIterations:  10\n",
      "maxDistances:  {0: 1.483930067324356, 1: 2.155405175516437, 2: 1.393219598517385, 3: 1.4663797686624238, 4: 2.093178939277606}\n",
      "distortion:  0.890846394813\n",
      "maxDifference:  0.0\n",
      "distortionDifference:  0.0\n",
      "distortionClusters:  {0: 3.490726024557699, 1: 3.7022305976409657, 2: 1.3111745007063509, 3: 0.7240588469073955, 4: 3.419416684549207}\n",
      "===== centers =====\n",
      "-0.196 -0.005 0.275 -0.035 -0.143 1.245 2.803 \n",
      "-0.038 0.194 0.538 1.001 1.109 3.031 2.751 \n",
      "0.059 -0.098 -0.104 -0.906 -0.950 -2.237 -2.561 \n",
      "0.153 0.042 0.183 -0.330 -0.397 -1.509 -2.536 \n",
      "-0.149 0.006 0.201 0.383 0.521 2.535 1.795 \n",
      "Wall time: 1min 25s\n"
     ]
    }
   ],
   "source": [
    "%%time\n",
    "minDist=np.inf\n",
    "KMeansResults=[]\n",
    "for i in range(1000):\n",
    "    data=K_Means(xy,k,d, verbose=False, startRandomCenters=True)\n",
    "    KMeansResults.append(data[-1])\n",
    "    if data[-1]<minDist:\n",
    "        bestIteration=i\n",
    "        minDist=data[-1]\n",
    "        #print data[-1]\n",
    "        bestData=data\n",
    "print \"BestIteration: \", bestIteration\n",
    "print \"maxIterations: \", bestData[-2]\n",
    "print 'maxDistances: ', bestData[1]\n",
    "print 'distortion: ', bestData[-1]\n",
    "print 'maxDifference: ', bestData[2]\n",
    "print \"distortionDifference: \", bestData[3]\n",
    "print \"distortionClusters: \", bestData[-3]\n",
    "print \"===== centers =====\"\n",
    "for center in bestData[0]:\n",
    "    line=\"\"\n",
    "    for coordinate in center:\n",
    "        line+=str('%.3f' % coordinate)+\" \"\n",
    "    print line"
   ]
  },
  {
   "cell_type": "code",
   "execution_count": 24,
   "metadata": {
    "collapsed": false
   },
   "outputs": [],
   "source": [
    "\n",
    "import matplotlib.pyplot as plt\n",
    "import numpy as np\n",
    "\n",
    "N=range(len(KMeansResults))\n",
    "bins=50\n",
    "plt.plot(N, KMeansResults)\n",
    "plt.axis([0, 1010, 0.8,1.6])\n",
    "plt.axvline(x=KMeansResults.index(min(KMeansResults)), color=\"r\", linestyle=\"dashed\")\n",
    "plt.axhline(y=min(KMeansResults), color=\"g\", linestyle=\"dashed\")\n",
    "#plt.axhline(y=)\n",
    "plt.show()\n"
   ]
  },
  {
   "cell_type": "code",
   "execution_count": 23,
   "metadata": {
    "collapsed": false
   },
   "outputs": [],
   "source": [
    "#plotting log of Distortions for better visualization\n",
    "import matplotlib.pyplot as plt\n",
    "import numpy as np\n",
    "\n",
    "N=range(len(KMeansResults))\n",
    "y=np.log10(KMeansResults)\n",
    "bins=50\n",
    "plt.plot(N, y)\n",
    "plt.axis([0, 1010, 2*min(y),max(y)+max(y)*0.1])\n",
    "plt.axvline(x=list(y).index(min(y)), color=\"r\", linestyle=\"dashed\")\n",
    "plt.axhline(y=min(y), color=\"g\", linestyle=\"dashed\")\n",
    "#plt.axhline(y=)\n",
    "plt.show()"
   ]
  },
  {
   "cell_type": "code",
   "execution_count": null,
   "metadata": {
    "collapsed": true
   },
   "outputs": [],
   "source": []
  },
  {
   "cell_type": "markdown",
   "metadata": {},
   "source": [
    "## k-means++ Initializer \n",
    "We have thus far not paid much attention to how initial centers are chosen in the Lloyd algorithm, which selects them randomly. Similarly to FartherstFirstTraversal, k-Means++Initializer picks k centers one at a time, but instead of choosing the point farthest from those picked so far, it chooses each point at random in such a way that distant points are more likely to be chosen than nearby points. Specifically, the probability of selecting a center DataPoint from Data is proportional to the squared distance of DataPoint from the centers already chosen, i.e., to d(DataPoint, Centers)2. \n",
    "\n",
    "For a simple example, say that we have just three data points, and that the squared distances from these points to the existing centers Centers are equal to 1, 4, and 5. Then the probability of k-Means++Initializer selecting each of these points as the next center is 1/10, 4/10, and 5/10, respectively.\n",
    "\n",
    "k-Means++Initializer(Data, k)\n"
   ]
  },
  {
   "cell_type": "code",
   "execution_count": null,
   "metadata": {
    "collapsed": false
   },
   "outputs": [],
   "source": [
    "k-Means++Initializer(Data, k)\n",
    "      ",
    "Centers ← the set consisting of a single randomly chosen point from Data\n",
    "    while |Centers| < k \n",
    "        randomly select DataPoint from Data with probability proportional to d(DataPoint, Centers)2 \n",
    "        add DataPoint to Centers\n",
    "    return Centers"
   ]
  },
  {
   "cell_type": "code",
   "execution_count": 28,
   "metadata": {
    "collapsed": true
   },
   "outputs": [],
   "source": []
  },
  {
   "cell_type": "code",
   "execution_count": 68,
   "metadata": {
    "collapsed": false
   },
   "outputs": [],
   "source": [
    "def KM_initializer(points, k):\n",
    "    centers=[]\n",
    "    #dist2=[]\n",
    "    #new_center=points[0]\n",
    "    rnd_center=rnd.choice(points)\n",
    "    #new_center=(0.8, 12.0, 17.5, 0.9, 7.2)\n",
    "    #centers.append(new_center)\n",
    "#     rndPnt=points[rnd.randint(0,len(points)-1)]\n",
    "#     if rndPnt not in centers:\n",
    "#         centers.append(rndPnt)\n",
    "        #del points[(points.index(rndPnt))]\n",
    "    while(len(centers)<k):\n",
    "        dist2=[]\n",
    "        if centers==[]:\n",
    "            for i in range(len(points)):\n",
    "                dist2.append(SquaredDistance(rnd_center, points[i]))\n",
    "        else:\n",
    "            for i in range(len(points)):\n",
    "                dist2.append(min([SquaredDistance(j, points[i]) for j in centers]))\n",
    "        weights=np.array(dist2)/float(sum(dist2))\n",
    "        new_center=np.random.choice(range(len(points)), p=weights)\n",
    "        centers.append(points[new_center])\n",
    "    return centers"
   ]
  },
  {
   "cell_type": "code",
   "execution_count": 110,
   "metadata": {
    "collapsed": true
   },
   "outputs": [],
   "source": [
    "def KM_initializer2(points, k):\n",
    "    centers=[]\n",
    "    #dist2=[]\n",
    "    #new_center=points[0]\n",
    "    new_center=rnd.choice(points)\n",
    "    #new_center=(0.8, 12.0, 17.5, 0.9, 7.2)\n",
    "    centers.append(new_center)\n",
    "#     rndPnt=points[rnd.randint(0,len(points)-1)]\n",
    "#     if rndPnt not in centers:\n",
    "#         centers.append(rndPnt)\n",
    "        #del points[(points.index(rndPnt))]\n",
    "    while(len(centers)<k):\n",
    "        dist2=[]\n",
    "        for i in range(len(points)):\n",
    "            dist2.append(min([SquaredDistance(j, points[i]) for j in centers]))\n",
    "        weights=np.array(dist2)/float(sum(dist2))\n",
    "        new_center=np.random.choice(range(len(points)), p=weights)\n",
    "        centers.append(points[new_center])\n",
    "    return centers"
   ]
  },
  {
   "cell_type": "code",
   "execution_count": 69,
   "metadata": {
    "collapsed": false
   },
   "outputs": [],
   "source": [
    "centers=KM_initializer(xy,k)"
   ]
  },
  {
   "cell_type": "code",
   "execution_count": 70,
   "metadata": {
    "collapsed": false
   },
   "outputs": [
    {
     "data": {
      "text/plain": [
       "[(-0.0840642647884746,\n",
       "  -0.176322772640463,\n",
       "  -0.356143810225275,\n",
       "  -0.704871964456353,\n",
       "  -0.505890929729957,\n",
       "  -1.56559717585423,\n",
       "  -2.37851162325373),\n",
       " (-0.0565835283663676,\n",
       "  -0.0976107966264223,\n",
       "  0.494109070270043,\n",
       "  1.05889368905357,\n",
       "  1.43440282414577,\n",
       "  2.55639334852439,\n",
       "  2.64385618977472),\n",
       " (-0.333423733725192,\n",
       "  -0.189033824390017,\n",
       "  0.415037499278844,\n",
       "  -0.0840642647884746,\n",
       "  -0.485426827170242,\n",
       "  1.0,\n",
       "  2.32192809488736),\n",
       " (-0.790772037862,\n",
       "  0.0144995696951152,\n",
       "  1.88896868761126,\n",
       "  1.55639334852439,\n",
       "  0.862496476250065,\n",
       "  3.64385618977472,\n",
       "  3.32192809488736),\n",
       " (-0.286881147788162,\n",
       "  0.0291463456595165,\n",
       "  0.136061549576028,\n",
       "  -0.16349873228288,\n",
       "  0.3040061868901,\n",
       "  3.83650126771712,\n",
       "  3.32192809488736)]"
      ]
     },
     "execution_count": 70,
     "metadata": {},
     "output_type": "execute_result"
    }
   ],
   "source": [
    "centers"
   ]
  },
  {
   "cell_type": "code",
   "execution_count": 77,
   "metadata": {
    "collapsed": false
   },
   "outputs": [
    {
     "name": "stdout",
     "output_type": "stream",
     "text": [
      "BestIteration:  42\n",
      "maxIterations:  9\n",
      "maxDistances:  {0: 1.4724463268095656, 1: 1.3904883966279094, 2: 2.155405175516437, 3: 2.093178939277606, 4: 1.483930067324356}\n",
      "distortion:  0.890867682549\n",
      "maxDifference:  0.0\n",
      "distortionDifference:  0.0\n",
      "distortionClusters:  {0: 0.7852483648612861, 1: 0.9065144844804376, 2: 2.0930081972198855, 3: 1.7186397734408922, 4: 1.7217063304152116}\n",
      "===== centers =====\n",
      "0.154 0.039 0.182 -0.335 -0.405 -1.512 -2.537 \n",
      "0.055 -0.095 -0.110 -0.914 -0.952 -2.252 -2.559 \n",
      "-0.038 0.194 0.538 1.001 1.109 3.031 2.751 \n",
      "-0.149 0.006 0.201 0.383 0.521 2.535 1.795 \n",
      "-0.196 -0.005 0.275 -0.035 -0.143 1.245 2.803 \n",
      "Wall time: 8.38 s\n"
     ]
    }
   ],
   "source": [
    "%%time\n",
    "minDist=np.inf\n",
    "KMeansResults=[]\n",
    "for i in range(100):\n",
    "    data=K_Means(xy,k,d, verbose=False, startRandomCenters=True)\n",
    "    KMeansResults.append(data[-1])\n",
    "    if data[-1]<minDist:\n",
    "        bestIteration=i\n",
    "        minDist=data[-1]\n",
    "        #print data[-1]\n",
    "        bestData=data\n",
    "print \"BestIteration: \", bestIteration\n",
    "print \"maxIterations: \", bestData[-2]\n",
    "print 'maxDistances: ', bestData[1]\n",
    "print 'distortion: ', bestData[-1]\n",
    "print 'maxDifference: ', bestData[2]\n",
    "print \"distortionDifference: \", bestData[3]\n",
    "print \"distortionClusters: \", bestData[-3]\n",
    "print \"===== centers =====\"\n",
    "for center in bestData[0]:\n",
    "    line=\"\"\n",
    "    for coordinate in center:\n",
    "        line+=str('%.3f' % coordinate)+\" \"\n",
    "    print line"
   ]
  },
  {
   "cell_type": "code",
   "execution_count": 113,
   "metadata": {
    "collapsed": false
   },
   "outputs": [
    {
     "name": "stdout",
     "output_type": "stream",
     "text": [
      "BestIteration:  4\n",
      "maxIterations:  10\n",
      "maxDistances:  {0: 2.214896898980774, 1: 1.4421530091752914, 2: 2.0409609639107567, 3: 1.3904883966279094, 4: 1.4724463268095656}\n",
      "distortion:  0.89730267532\n",
      "maxDifference:  0.0\n",
      "distortionDifference:  0.0\n",
      "distortionClusters:  {0: 1.8580720299881772, 1: 3.5913782190393526, 2: 1.918794687736724, 3: 0.8582115932523149, 4: 1.2190823930888293}\n",
      "===== centers =====\n",
      "-0.097 0.053 0.252 0.496 0.639 2.483 1.867 \n",
      "-0.212 -0.018 0.258 -0.059 -0.171 1.273 2.801 \n",
      "-0.083 0.175 0.555 0.992 1.088 3.217 2.875 \n",
      "0.055 -0.095 -0.110 -0.914 -0.952 -2.252 -2.559 \n",
      "0.154 0.039 0.182 -0.335 -0.405 -1.512 -2.537 \n",
      "Wall time: 912 ms\n"
     ]
    }
   ],
   "source": [
    "%%time\n",
    "#doing with Random centers\n",
    "minDist=np.inf\n",
    "KMeansResults=[]\n",
    "for i in range(10):\n",
    "    #centers=KM_initializer(xy, k)\n",
    "    data=K_Means(xy,k,d, verbose=False, startRandomCenters=True)\n",
    "    KMeansResults.append(data[-1])\n",
    "    if data[-1]<minDist:\n",
    "        bestIteration=i\n",
    "        minDist=data[-1]\n",
    "        #print data[-1]\n",
    "        bestData=data\n",
    "print \"BestIteration: \", bestIteration\n",
    "print \"maxIterations: \", bestData[-2]\n",
    "print 'maxDistances: ', bestData[1]\n",
    "print 'distortion: ', bestData[-1]\n",
    "print 'maxDifference: ', bestData[2]\n",
    "print \"distortionDifference: \", bestData[3]\n",
    "print \"distortionClusters: \", bestData[-3]\n",
    "print \"===== centers =====\"\n",
    "for center in bestData[0]:\n",
    "    line=\"\"\n",
    "    for coordinate in center:\n",
    "        line+=str('%.3f' % coordinate)+\" \"\n",
    "    print line"
   ]
  },
  {
   "cell_type": "code",
   "execution_count": 105,
   "metadata": {
    "collapsed": false
   },
   "outputs": [
    {
     "data": {
      "image/png": "[encoded data removed]",
      "text/plain": [
       "<matplotlib.figure.Figure at 0xc59ea20>"
      ]
     },
     "metadata": {},
     "output_type": "display_data"
    }
   ],
   "source": [
    "%matplotlib inline\n",
    "import matplotlib.pyplot as plt\n",
    "import numpy as np\n",
    "\n",
    "N=range(len(KMeansResults))\n",
    "plt.plot(N, KMeansResults)\n",
    "plt.axis([0, len(N)+len(N)*0.1, min(KMeansResults)-min(KMeansResults)*0.1,max(KMeansResults)+max(KMeansResults)*0.1])\n",
    "plt.axvline(x=KMeansResults.index(min(KMeansResults)), color=\"r\", linestyle=\"dashed\")\n",
    "plt.axhline(y=min(KMeansResults), color=\"g\", linestyle=\"dashed\")\n",
    "#plt.axhline(y=)\n",
    "plt.show()"
   ]
  },
  {
   "cell_type": "code",
   "execution_count": 114,
   "metadata": {
    "collapsed": false
   },
   "outputs": [
    {
     "name": "stdout",
     "output_type": "stream",
     "text": [
      "BestIteration:  8\n",
      "maxIterations:  10\n",
      "maxDistances:  {0: 1.9195143887213502, 1: 1.3904883966279094, 2: 1.4724463268095656, 3: 1.483930067324356, 4: 2.2103277173215496}\n",
      "distortion:  0.892863387397\n",
      "maxDifference:  0.0\n",
      "distortionDifference:  0.0\n",
      "distortionClusters:  {0: 2.320571374147792, 1: 0.987752365323277, 2: 1.1865285331598658, 3: 1.3524376584148798, 4: 2.3406812467524185}\n",
      "===== centers =====\n",
      "-0.010 0.209 0.613 1.116 1.214 2.887 2.601 \n",
      "0.055 -0.095 -0.110 -0.914 -0.952 -2.252 -2.559 \n",
      "0.154 0.039 0.182 -0.335 -0.405 -1.512 -2.537 \n",
      "-0.196 -0.005 0.275 -0.035 -0.143 1.245 2.803 \n",
      "-0.170 -0.003 0.145 0.300 0.446 2.663 1.937 \n",
      "Wall time: 987 ms\n"
     ]
    }
   ],
   "source": [
    "%%time\n",
    "#doing with k-Means initialization centers\n",
    "minDist=np.inf\n",
    "KMeansResults=[]\n",
    "for i in range(10):\n",
    "    centers=KM_initializer(xy, k)\n",
    "    data=K_Means(xy,k,d, verbose=False, startRandomCenters=False, centers=centers)\n",
    "    KMeansResults.append(data[-1])\n",
    "    if data[-1]<minDist:\n",
    "        bestIteration=i\n",
    "        minDist=data[-1]\n",
    "        #print data[-1]\n",
    "        bestData=data\n",
    "print \"BestIteration: \", bestIteration\n",
    "print \"maxIterations: \", bestData[-2]\n",
    "print 'maxDistances: ', bestData[1]\n",
    "print 'distortion: ', bestData[-1]\n",
    "print 'maxDifference: ', bestData[2]\n",
    "print \"distortionDifference: \", bestData[3]\n",
    "print \"distortionClusters: \", bestData[-3]\n",
    "print \"===== centers =====\"\n",
    "for center in bestData[0]:\n",
    "    line=\"\"\n",
    "    for coordinate in center:\n",
    "        line+=str('%.3f' % coordinate)+\" \"\n",
    "    print line"
   ]
  },
  {
   "cell_type": "code",
   "execution_count": 107,
   "metadata": {
    "collapsed": false
   },
   "outputs": [
    {
     "data": {
      "image/png": "[encoded data removed]",
      "text/plain": [
       "<matplotlib.figure.Figure at 0x82ea780>"
      ]
     },
     "metadata": {},
     "output_type": "display_data"
    }
   ],
   "source": [
    "%matplotlib inline\n",
    "import matplotlib.pyplot as plt\n",
    "import numpy as np\n",
    "\n",
    "N=range(len(KMeansResults))\n",
    "plt.plot(N, KMeansResults)\n",
    "plt.axis([0, len(N)+len(N)*0.1, min(KMeansResults)-min(KMeansResults)*0.1,max(KMeansResults)+max(KMeansResults)*0.1])\n",
    "plt.axvline(x=KMeansResults.index(min(KMeansResults)), color=\"r\", linestyle=\"dashed\")\n",
    "plt.axhline(y=min(KMeansResults), color=\"g\", linestyle=\"dashed\")\n",
    "#plt.axhline(y=)\n",
    "plt.show()"
   ]
  },
  {
   "cell_type": "code",
   "execution_count": 115,
   "metadata": {
    "collapsed": false
   },
   "outputs": [
    {
     "name": "stdout",
     "output_type": "stream",
     "text": [
      "BestIteration:  8\n",
      "maxIterations:  8\n",
      "maxDistances:  {0: 1.4724463268095656, 1: 2.0666949238213466, 2: 2.167742431047133, 3: 1.4825978286478854, 4: 1.3904883966279094}\n",
      "distortion:  0.892979071898\n",
      "maxDifference:  0.0\n",
      "distortionDifference:  0.0\n",
      "distortionClusters:  {0: 0.9998453938152904, 1: 1.7330761439930187, 2: 2.033042059700201, 3: 1.934877295154161, 4: 1.1737225111877265}\n",
      "===== centers =====\n",
      "0.154 0.039 0.182 -0.335 -0.405 -1.512 -2.537 \n",
      "-0.168 -0.002 0.185 0.369 0.495 2.608 1.736 \n",
      "-0.031 0.194 0.535 0.994 1.101 2.986 2.733 \n",
      "-0.183 -0.004 0.275 -0.009 -0.082 1.285 2.768 \n",
      "0.055 -0.095 -0.110 -0.914 -0.952 -2.252 -2.559 \n",
      "Wall time: 845 ms\n"
     ]
    }
   ],
   "source": [
    "%%time\n",
    "#doing with k-Means initialization2 centers\n",
    "minDist=np.inf\n",
    "KMeansResults=[]\n",
    "for i in range(10):\n",
    "    centers=KM_initializer2(xy, k)\n",
    "    data=K_Means(xy,k,d, verbose=False, startRandomCenters=False, centers=centers)\n",
    "    KMeansResults.append(data[-1])\n",
    "    if data[-1]<minDist:\n",
    "        bestIteration=i\n",
    "        minDist=data[-1]\n",
    "        #print data[-1]\n",
    "        bestData=data\n",
    "print \"BestIteration: \", bestIteration\n",
    "print \"maxIterations: \", bestData[-2]\n",
    "print 'maxDistances: ', bestData[1]\n",
    "print 'distortion: ', bestData[-1]\n",
    "print 'maxDifference: ', bestData[2]\n",
    "print \"distortionDifference: \", bestData[3]\n",
    "print \"distortionClusters: \", bestData[-3]\n",
    "print \"===== centers =====\"\n",
    "for center in bestData[0]:\n",
    "    line=\"\"\n",
    "    for coordinate in center:\n",
    "        line+=str('%.3f' % coordinate)+\" \"\n",
    "    print line"
   ]
  },
  {
   "cell_type": "code",
   "execution_count": 112,
   "metadata": {
    "collapsed": false
   },
   "outputs": [
    {
     "data": {
      "image/png": "[encoded data removed]",
      "text/plain": [
       "<matplotlib.figure.Figure at 0x3d13be0>"
      ]
     },
     "metadata": {},
     "output_type": "display_data"
    }
   ],
   "source": [
    "%matplotlib inline\n",
    "import matplotlib.pyplot as plt\n",
    "import numpy as np\n",
    "\n",
    "N=range(len(KMeansResults))\n",
    "plt.plot(N, KMeansResults)\n",
    "plt.axis([0, len(N)+len(N)*0.1, min(KMeansResults)-min(KMeansResults)*0.1,max(KMeansResults)+max(KMeansResults)*0.1])\n",
    "plt.axvline(x=KMeansResults.index(min(KMeansResults)), color=\"r\", linestyle=\"dashed\")\n",
    "plt.axhline(y=min(KMeansResults), color=\"g\", linestyle=\"dashed\")\n",
    "#plt.axhline(y=)\n",
    "plt.show()"
   ]
  },
  {
   "cell_type": "code",
   "execution_count": 116,
   "metadata": {
    "collapsed": false
   },
   "outputs": [
    {
     "name": "stdout",
     "output_type": "stream",
     "text": [
      "BestIteration:  6\n",
      "maxIterations:  12\n",
      "maxDistances:  {0: 1.483930067324356, 1: 1.4051758693348575, 2: 2.155405175516437, 3: 1.4403806019798888, 4: 2.093178939277606}\n",
      "distortion:  0.891120520153\n",
      "maxDifference:  0.0\n",
      "distortionDifference:  0.0\n",
      "distortionClusters:  {0: 2.5926938546696707, 1: 2.09604928888348, 2: 2.586976075487188, 3: 2.3943790383705825, 4: 2.069383379788329}\n",
      "===== centers =====\n",
      "-0.196 -0.005 0.275 -0.035 -0.143 1.245 2.803 \n",
      "0.072 -0.084 -0.083 -0.896 -0.922 -2.186 -2.568 \n",
      "-0.038 0.194 0.538 1.001 1.109 3.031 2.751 \n",
      "0.151 0.042 0.188 -0.298 -0.379 -1.495 -2.530 \n",
      "-0.149 0.006 0.201 0.383 0.521 2.535 1.795 \n",
      "Wall time: 721 ms\n"
     ]
    }
   ],
   "source": [
    "%%time\n",
    "#doing with FarthestFirstTraversal initialization centers\n",
    "\n",
    "minDist=np.inf\n",
    "KMeansResults=[]\n",
    "for i in range(10):\n",
    "    centers=FarthestFirstTraversal(xy, k)\n",
    "    #centers\n",
    "    data=K_Means(xy,k,d, verbose=False, startRandomCenters=False, centers=centers)\n",
    "    KMeansResults.append(data[-1])\n",
    "    if data[-1]<minDist:\n",
    "        bestIteration=i\n",
    "        minDist=data[-1]\n",
    "        #print data[-1]\n",
    "        bestData=data\n",
    "print \"BestIteration: \", bestIteration\n",
    "print \"maxIterations: \", bestData[-2]\n",
    "print 'maxDistances: ', bestData[1]\n",
    "print 'distortion: ', bestData[-1]\n",
    "print 'maxDifference: ', bestData[2]\n",
    "print \"distortionDifference: \", bestData[3]\n",
    "print \"distortionClusters: \", bestData[-3]\n",
    "print \"===== centers =====\"\n",
    "for center in bestData[0]:\n",
    "    line=\"\"\n",
    "    for coordinate in center:\n",
    "        line+=str('%.3f' % coordinate)+\" \"\n",
    "    print line"
   ]
  },
  {
   "cell_type": "code",
   "execution_count": 117,
   "metadata": {
    "collapsed": false
   },
   "outputs": [
    {
     "data": {
      "image/png": "[encoded data removed]",
      "text/plain": [
       "<matplotlib.figure.Figure at 0xc043080>"
      ]
     },
     "metadata": {},
     "output_type": "display_data"
    }
   ],
   "source": [
    "%matplotlib inline\n",
    "import matplotlib.pyplot as plt\n",
    "import numpy as np\n",
    "\n",
    "N=range(len(KMeansResults))\n",
    "plt.plot(N, KMeansResults)\n",
    "plt.axis([0, len(N)+len(N)*0.1, min(KMeansResults)-min(KMeansResults)*0.1,min(KMeansResults)+min(KMeansResults)*0.1])\n",
    "plt.axvline(x=KMeansResults.index(min(KMeansResults)), color=\"r\", linestyle=\"dashed\")\n",
    "plt.axhline(y=min(KMeansResults), color=\"g\", linestyle=\"dashed\")\n",
    "#plt.axhline(y=)\n",
    "plt.show()"
   ]
  },
  {
   "cell_type": "code",
   "execution_count": null,
   "metadata": {
    "collapsed": true
   },
   "outputs": [],
   "source": []
  },
  {
   "cell_type": "code",
   "execution_count": null,
   "metadata": {
    "collapsed": true
   },
   "outputs": [],
   "source": []
  },
  {
   "cell_type": "code",
   "execution_count": null,
   "metadata": {
    "collapsed": true
   },
   "outputs": [],
   "source": []
  },
  {
   "cell_type": "code",
   "execution_count": null,
   "metadata": {
    "collapsed": true
   },
   "outputs": [],
   "source": []
  },
  {
   "cell_type": "code",
   "execution_count": null,
   "metadata": {
    "collapsed": true
   },
   "outputs": [],
   "source": []
  },
  {
   "cell_type": "code",
   "execution_count": null,
   "metadata": {
    "collapsed": true
   },
   "outputs": [],
   "source": []
  },
  {
   "cell_type": "code",
   "execution_count": null,
   "metadata": {
    "collapsed": true
   },
   "outputs": [],
   "source": []
  },
  {
   "cell_type": "code",
   "execution_count": null,
   "metadata": {
    "collapsed": true
   },
   "outputs": [],
   "source": []
  },
  {
   "cell_type": "code",
   "execution_count": null,
   "metadata": {
    "collapsed": true
   },
   "outputs": [],
   "source": []
  },
  {
   "cell_type": "code",
   "execution_count": null,
   "metadata": {
    "collapsed": true
   },
   "outputs": [],
   "source": []
  },
  {
   "cell_type": "code",
   "execution_count": 74,
   "metadata": {
    "collapsed": true
   },
   "outputs": [],
   "source": [
    "def FarthestFirstTraversal(points, k):\n",
    "    centers=[]\n",
    "    #new_center=points[0]\n",
    "    new_center=rnd.choice(list((set(points).difference(centers))))\n",
    "    #new_center=(0.8, 12.0, 17.5, 0.9, 7.2)\n",
    "    centers.append(new_center)\n",
    "#     rndPnt=points[rnd.randint(0,len(points)-1)]\n",
    "#     if rndPnt not in centers:\n",
    "#         centers.append(rndPnt)\n",
    "        #del points[(points.index(rndPnt))]\n",
    "    while(len(centers)<k):\n",
    "        maxDist=0 \n",
    "        for point in list((set(points).difference(centers))):\n",
    "            cent_min_dist=np.inf\n",
    "            for center in centers:\n",
    "                dist=EuclideanDistance(center,point)\n",
    "                if dist < cent_min_dist:\n",
    "                    cent_min_dist=dist\n",
    "                \n",
    "                #print dist, point, center\n",
    "            if ((cent_min_dist > maxDist)):\n",
    "                maxDist=cent_min_dist\n",
    "\n",
    "                new_center=point\n",
    "                    #print new_center\n",
    "        \n",
    "        if maxDist:\n",
    "            #new_center=rnd.choice(list((set(points).difference(centers))))\n",
    "            centers.append(new_center)\n",
    "        else:\n",
    "            new_center=rnd.choice(list((set(points).difference(centers))))\n",
    "            print \"!!!Random center created: \", new_center\n",
    "        #print centers\n",
    "                #else:\n",
    "                    #print \"zero length\"\n",
    "                    #print center, point, dist, maxDist\n",
    "        #if new_center not in centers:\n",
    "\n",
    "            \n",
    "    return centers"
   ]
  },
  {
   "cell_type": "code",
   "execution_count": null,
   "metadata": {
    "collapsed": true
   },
   "outputs": [],
   "source": []
  },
  {
   "cell_type": "code",
   "execution_count": null,
   "metadata": {
    "collapsed": true
   },
   "outputs": [],
   "source": []
  },
  {
   "cell_type": "code",
   "execution_count": null,
   "metadata": {
    "collapsed": true
   },
   "outputs": [],
   "source": []
  },
  {
   "cell_type": "code",
   "execution_count": 25,
   "metadata": {
    "collapsed": false
   },
   "outputs": [
    {
     "data": {
      "text/plain": [
       "array([ 0.47712125,  0.69897   ,  1.        ])"
      ]
     },
     "execution_count": 25,
     "metadata": {},
     "output_type": "execute_result"
    }
   ],
   "source": [
    "lst=[3,5,10]\n",
    "np.log10(lst)"
   ]
  },
  {
   "cell_type": "code",
   "execution_count": null,
   "metadata": {
    "collapsed": true
   },
   "outputs": [],
   "source": []
  },
  {
   "cell_type": "code",
   "execution_count": null,
   "metadata": {
    "collapsed": true
   },
   "outputs": [],
   "source": []
  },
  {
   "cell_type": "code",
   "execution_count": 623,
   "metadata": {
    "collapsed": false
   },
   "outputs": [
    {
     "data": {
      "image/png": "[encoded data removed]",
      "text/plain": [
       "<matplotlib.figure.Figure at 0xaee3cc0>"
      ]
     },
     "metadata": {},
     "output_type": "display_data"
    }
   ],
   "source": [
    "#KMeansResults\n",
    "import matplotlib.pyplot as plt\n",
    "import numpy as np\n",
    "\n",
    "mu, sigma = 100, 15\n",
    "x = mu + sigma * np.random.randn(10000)\n",
    "hist, bins = np.histogram(x, bins=50)\n",
    "width = 0.7 * (bins[1] - bins[0])\n",
    "center = (bins[:-1] + bins[1:]) / 2\n",
    "plt.bar(center, hist, align='center', width=width)\n",
    "plt.show()"
   ]
  },
  {
   "cell_type": "code",
   "execution_count": null,
   "metadata": {
    "collapsed": true
   },
   "outputs": [],
   "source": []
  },
  {
   "cell_type": "code",
   "execution_count": null,
   "metadata": {
    "collapsed": true
   },
   "outputs": [],
   "source": []
  },
  {
   "cell_type": "code",
   "execution_count": null,
   "metadata": {
    "collapsed": true
   },
   "outputs": [],
   "source": []
  },
  {
   "cell_type": "code",
   "execution_count": 345,
   "metadata": {
    "collapsed": false
   },
   "outputs": [
    {
     "data": {
      "text/plain": [
       "[(7.3, 12.9, 12.9, 2.5, 10.7), (4.9, 4.3, 13.8, 1.8, 9.2)]"
      ]
     },
     "execution_count": 345,
     "metadata": {},
     "output_type": "execute_result"
    }
   ],
   "source": [
    "xy[-2:]"
   ]
  },
  {
   "cell_type": "code",
   "execution_count": null,
   "metadata": {
    "collapsed": true
   },
   "outputs": [],
   "source": []
  },
  {
   "cell_type": "code",
   "execution_count": 152,
   "metadata": {
    "collapsed": false
   },
   "outputs": [
    {
     "data": {
      "text/plain": [
       "496.40000000000003"
      ]
     },
     "execution_count": 152,
     "metadata": {},
     "output_type": "execute_result"
    }
   ],
   "source": [
    "np.sum(np.array(xy)[clusters[0]][:,[0]])"
   ]
  },
  {
   "cell_type": "code",
   "execution_count": null,
   "metadata": {
    "collapsed": true
   },
   "outputs": [],
   "source": []
  },
  {
   "cell_type": "code",
   "execution_count": null,
   "metadata": {
    "collapsed": false
   },
   "outputs": [],
   "source": []
  },
  {
   "cell_type": "code",
   "execution_count": null,
   "metadata": {
    "collapsed": true
   },
   "outputs": [],
   "source": []
  },
  {
   "cell_type": "code",
   "execution_count": null,
   "metadata": {
    "collapsed": true
   },
   "outputs": [],
   "source": []
  },
  {
   "cell_type": "code",
   "execution_count": null,
   "metadata": {
    "collapsed": true
   },
   "outputs": [],
   "source": []
  },
  {
   "cell_type": "code",
   "execution_count": null,
   "metadata": {
    "collapsed": true
   },
   "outputs": [],
   "source": []
  },
  {
   "cell_type": "code",
   "execution_count": null,
   "metadata": {
    "collapsed": true
   },
   "outputs": [],
   "source": []
  },
  {
   "cell_type": "code",
   "execution_count": null,
   "metadata": {
    "collapsed": true
   },
   "outputs": [],
   "source": []
  },
  {
   "cell_type": "code",
   "execution_count": null,
   "metadata": {
    "collapsed": true
   },
   "outputs": [],
   "source": []
  },
  {
   "cell_type": "code",
   "execution_count": null,
   "metadata": {
    "collapsed": true
   },
   "outputs": [],
   "source": []
  },
  {
   "cell_type": "code",
   "execution_count": null,
   "metadata": {
    "collapsed": true
   },
   "outputs": [],
   "source": []
  },
  {
   "cell_type": "code",
   "execution_count": null,
   "metadata": {
    "collapsed": true
   },
   "outputs": [],
   "source": []
  },
  {
   "cell_type": "code",
   "execution_count": null,
   "metadata": {
    "collapsed": true
   },
   "outputs": [],
   "source": []
  },
  {
   "cell_type": "code",
   "execution_count": null,
   "metadata": {
    "collapsed": true
   },
   "outputs": [],
   "source": []
  },
  {
   "cell_type": "code",
   "execution_count": null,
   "metadata": {
    "collapsed": true
   },
   "outputs": [],
   "source": []
  },
  {
   "cell_type": "code",
   "execution_count": null,
   "metadata": {
    "collapsed": true
   },
   "outputs": [],
   "source": []
  },
  {
   "cell_type": "code",
   "execution_count": 506,
   "metadata": {
    "collapsed": false
   },
   "outputs": [
    {
     "data": {
      "text/plain": [
       "178"
      ]
     },
     "execution_count": 506,
     "metadata": {},
     "output_type": "execute_result"
    }
   ],
   "source": [
    "len(clusters[1])"
   ]
  },
  {
   "cell_type": "code",
   "execution_count": 507,
   "metadata": {
    "collapsed": false
   },
   "outputs": [
    {
     "data": {
      "text/plain": [
       "178"
      ]
     },
     "execution_count": 507,
     "metadata": {},
     "output_type": "execute_result"
    }
   ],
   "source": [
    "len(np.array(xy)[clusters[1]])\n"
   ]
  },
  {
   "cell_type": "code",
   "execution_count": 508,
   "metadata": {
    "collapsed": false
   },
   "outputs": [
    {
     "data": {
      "text/plain": [
       "(3.1, 4.7, 11.7, 11.8, 13.3)"
      ]
     },
     "execution_count": 508,
     "metadata": {},
     "output_type": "execute_result"
    }
   ],
   "source": [
    "xy[2]"
   ]
  },
  {
   "cell_type": "code",
   "execution_count": 509,
   "metadata": {
    "collapsed": false
   },
   "outputs": [
    {
     "data": {
      "text/plain": [
       "[]"
      ]
     },
     "execution_count": 509,
     "metadata": {},
     "output_type": "execute_result"
    }
   ],
   "source": [
    "dct[0]"
   ]
  },
  {
   "cell_type": "code",
   "execution_count": null,
   "metadata": {
    "collapsed": true
   },
   "outputs": [],
   "source": []
  },
  {
   "cell_type": "code",
   "execution_count": null,
   "metadata": {
    "collapsed": true
   },
   "outputs": [],
   "source": []
  },
  {
   "cell_type": "code",
   "execution_count": null,
   "metadata": {
    "collapsed": true
   },
   "outputs": [],
   "source": []
  },
  {
   "cell_type": "code",
   "execution_count": null,
   "metadata": {
    "collapsed": true
   },
   "outputs": [],
   "source": []
  },
  {
   "cell_type": "code",
   "execution_count": 3,
   "metadata": {
    "collapsed": false
   },
   "outputs": [
    {
     "data": {
      "text/plain": [
       "[(9.4, 7.5), (9.4, 9.6), (3.1, 6.6)]"
      ]
     },
     "execution_count": 3,
     "metadata": {},
     "output_type": "execute_result"
    }
   ],
   "source": [
    "\n",
    "#random.choice(xy)\n",
    "ctr=[]\n",
    "for i in range(0,3):\n",
    "    pnt=xy[rnd.randint(0,len(xy)-1)]\n",
    "    if pnt not in ctr:\n",
    "        ctr.append(pnt)\n",
    "ctr"
   ]
  },
  {
   "cell_type": "code",
   "execution_count": 291,
   "metadata": {
    "collapsed": false
   },
   "outputs": [
    {
     "data": {
      "text/plain": [
       "['0.0',\n",
       " '0.0',\n",
       " '5.0',\n",
       " '5.0',\n",
       " '0.0',\n",
       " '5.0',\n",
       " '1.0',\n",
       " '1.0',\n",
       " '2.0',\n",
       " '2.0',\n",
       " '3.0',\n",
       " '3.0',\n",
       " '1.0',\n",
       " '2.0']"
      ]
     },
     "execution_count": 291,
     "metadata": {},
     "output_type": "execute_result"
    }
   ],
   "source": [
    "data=\"\"\"0.0 0.0\n",
    "5.0 5.0\n",
    "0.0 5.0\n",
    "1.0 1.0\n",
    "2.0 2.0\n",
    "3.0 3.0\n",
    "1.0 2.0\"\"\".split()\n",
    "data"
   ]
  },
  {
   "cell_type": "code",
   "execution_count": 4,
   "metadata": {
    "collapsed": true
   },
   "outputs": [],
   "source": []
  },
  {
   "cell_type": "code",
   "execution_count": 293,
   "metadata": {
    "collapsed": false
   },
   "outputs": [
    {
     "data": {
      "text/plain": [
       "[(0.0, 0.0),\n",
       " (5.0, 5.0),\n",
       " (0.0, 5.0),\n",
       " (1.0, 1.0),\n",
       " (2.0, 2.0),\n",
       " (3.0, 3.0),\n",
       " (1.0, 2.0)]"
      ]
     },
     "execution_count": 293,
     "metadata": {},
     "output_type": "execute_result"
    }
   ],
   "source": [
    "\n",
    "#x=[float(i) for i in data[::2]]\n",
    "#y=[float(i) for i in data[1::2]]\n",
    "xy=[(float(a),float(b)) for a,b in zip(data[::2],data[1::2]) ]\n",
    "xy"
   ]
  },
  {
   "cell_type": "code",
   "execution_count": 295,
   "metadata": {
    "collapsed": false
   },
   "outputs": [
    {
     "data": {
      "text/plain": [
       "5.0"
      ]
     },
     "execution_count": 295,
     "metadata": {},
     "output_type": "execute_result"
    }
   ],
   "source": [
    "EuclideanDistance((0,0),(5,0))"
   ]
  },
  {
   "cell_type": "code",
   "execution_count": 19,
   "metadata": {
    "collapsed": false
   },
   "outputs": [
    {
     "data": {
      "text/plain": [
       "[(16.6, 9.6), (43.9, 12.8), (0.1, 31.5), (27.1, 29.3), (0.1, 0.4)]"
      ]
     },
     "execution_count": 19,
     "metadata": {},
     "output_type": "execute_result"
    }
   ],
   "source": [
    "#xy=[(float(a),float(b)) for a,b in zip(data[::2],data[1::2]) ]\n",
    "#xy=[(float(a),float(b),float(c)) for a,b,c in zip(data[::3],data[1::3],data[2::3]) ]\n",
    "def EuclideanDistance(p1,p2):\n",
    "    d1,d2=len(p1),len(p2)\n",
    "    if d1!=d2:\n",
    "        print(\"Dimensions do not match!\")\n",
    "        return\n",
    "    dif2 = 0\n",
    "    for i in range(d1):        \n",
    "        dif2 += (p1[i]-p2[i])**2\n",
    "    #print dif2\n",
    "    return math.sqrt(dif2)\n",
    "\n",
    "def FarthestFirstTraversal(points, k):\n",
    "    centers=[]\n",
    "    new_center=rnd.choice(list((set(points).difference(centers))))\n",
    "    #new_center=(0.8, 12.0, 17.5, 0.9, 7.2)\n",
    "    centers.append(new_center)\n",
    "#     rndPnt=points[rnd.randint(0,len(points)-1)]\n",
    "#     if rndPnt not in centers:\n",
    "#         centers.append(rndPnt)\n",
    "        #del points[(points.index(rndPnt))]\n",
    "    while(len(centers)<k):\n",
    "        maxDist=0 \n",
    "        for point in list((set(points).difference(centers))):\n",
    "            cent_min_dist=np.inf\n",
    "            for center in centers:\n",
    "                dist=EuclideanDistance(center,point)\n",
    "                if dist < cent_min_dist:\n",
    "                    cent_min_dist=dist\n",
    "                \n",
    "                #print dist, point, center\n",
    "            if ((cent_min_dist > maxDist)):\n",
    "                maxDist=cent_min_dist\n",
    "\n",
    "                new_center=point\n",
    "                    #print new_center\n",
    "        \n",
    "        if maxDist:\n",
    "            #new_center=rnd.choice(list((set(points).difference(centers))))\n",
    "            centers.append(new_center)\n",
    "        else:\n",
    "            new_center=rnd.choice(list((set(points).difference(centers))))\n",
    "            print \"!!!Random center created: \", new_center\n",
    "        #print centers\n",
    "                #else:\n",
    "                    #print \"zero length\"\n",
    "                    #print center, point, dist, maxDist\n",
    "        #if new_center not in centers:\n",
    "\n",
    "            \n",
    "    return centers\n",
    "FarthestFirstTraversal(xy,k)  "
   ]
  },
  {
   "cell_type": "code",
   "execution_count": 325,
   "metadata": {
    "collapsed": false
   },
   "outputs": [
    {
     "data": {
      "text/plain": [
       "(0, 0)"
      ]
     },
     "execution_count": 325,
     "metadata": {},
     "output_type": "execute_result"
    }
   ],
   "source": [
    "b1 = [(1,2), (0,0)]\n",
    "b2 = []\n",
    "rnd.choice(list((set(b1).difference(b2))))"
   ]
  },
  {
   "cell_type": "code",
   "execution_count": 344,
   "metadata": {
    "collapsed": false
   },
   "outputs": [
    {
     "data": {
      "text/plain": [
       "32.60720779214313"
      ]
     },
     "execution_count": 344,
     "metadata": {},
     "output_type": "execute_result"
    }
   ],
   "source": [
    "EuclideanDistance((0.8, 12.0, 17.5, 0.9, 7.2),(31.1, 2.1, 12.5, 1.1, 2.5))"
   ]
  },
  {
   "cell_type": "code",
   "execution_count": 345,
   "metadata": {
    "collapsed": false
   },
   "outputs": [
    {
     "data": {
      "text/plain": [
       "52.6948764112793"
      ]
     },
     "execution_count": 345,
     "metadata": {},
     "output_type": "execute_result"
    }
   ],
   "source": [
    "EuclideanDistance((0.3, 16.4, 8.9, 34.6, 24.6),(31.1, 2.1, 12.5, 1.1, 2.5))"
   ]
  },
  {
   "cell_type": "code",
   "execution_count": 346,
   "metadata": {
    "collapsed": false
   },
   "outputs": [
    {
     "data": {
      "text/plain": [
       "38.531415753901385"
      ]
     },
     "execution_count": 346,
     "metadata": {},
     "output_type": "execute_result"
    }
   ],
   "source": [
    "EuclideanDistance((0.8, 12.0, 17.5, 0.9, 7.2),(32.3, 1.9, 5.1, 16.2, 8.8))\n",
    "\n"
   ]
  },
  {
   "cell_type": "code",
   "execution_count": 347,
   "metadata": {
    "collapsed": false
   },
   "outputs": [
    {
     "data": {
      "text/plain": [
       "42.85895472360473"
      ]
     },
     "execution_count": 347,
     "metadata": {},
     "output_type": "execute_result"
    }
   ],
   "source": [
    "EuclideanDistance((0.3, 16.4, 8.9, 34.6, 24.6),(32.3, 1.9, 5.1, 16.2, 8.8))"
   ]
  },
  {
   "cell_type": "code",
   "execution_count": null,
   "metadata": {
    "collapsed": true
   },
   "outputs": [],
   "source": []
  }
 ],
 "metadata": {
  "kernelspec": {
   "display_name": "Python 2",
   "language": "python",
   "name": "python2"
  },
  "language_info": {
   "codemirror_mode": {
    "name": "ipython",
    "version": 2
   },
   "file_extension": ".py",
   "mimetype": "text/x-python",
   "name": "python",
   "nbconvert_exporter": "python",
   "pygments_lexer": "ipython2",
   "version": "2.7.11"
  }
 },
 "nbformat": 4,
 "nbformat_minor": 0
}
